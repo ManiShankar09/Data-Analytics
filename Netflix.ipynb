{
 "cells": [
  {
   "cell_type": "code",
   "execution_count": 1,
   "id": "91eb95e8",
   "metadata": {},
   "outputs": [
    {
     "name": "stderr",
     "output_type": "stream",
     "text": [
      "C:\\Users\\manis\\AppData\\Local\\Programs\\Python\\Python310\\lib\\site-packages\\scipy\\__init__.py:146: UserWarning: A NumPy version >=1.16.5 and <1.23.0 is required for this version of SciPy (detected version 1.26.3\n",
      "  warnings.warn(f\"A NumPy version >={np_minversion} and <{np_maxversion}\"\n"
     ]
    }
   ],
   "source": [
    "import pandas as pd\n",
    "import matplotlib.pyplot as plt\n",
    "%matplotlib inline\n",
    "import seaborn as sb\n",
    "data = pd.read_csv('netflix_india_shows_and_movies.csv')"
   ]
  },
  {
   "cell_type": "code",
   "execution_count": 3,
   "id": "43874d8b",
   "metadata": {},
   "outputs": [
    {
     "data": {
      "text/html": [
       "<div>\n",
       "<style scoped>\n",
       "    .dataframe tbody tr th:only-of-type {\n",
       "        vertical-align: middle;\n",
       "    }\n",
       "\n",
       "    .dataframe tbody tr th {\n",
       "        vertical-align: top;\n",
       "    }\n",
       "\n",
       "    .dataframe thead th {\n",
       "        text-align: right;\n",
       "    }\n",
       "</style>\n",
       "<table border=\"1\" class=\"dataframe\">\n",
       "  <thead>\n",
       "    <tr style=\"text-align: right;\">\n",
       "      <th></th>\n",
       "      <th>showid</th>\n",
       "      <th>name</th>\n",
       "      <th>type</th>\n",
       "      <th>rating</th>\n",
       "      <th>duration</th>\n",
       "      <th>description</th>\n",
       "      <th>hook_text</th>\n",
       "      <th>genre</th>\n",
       "      <th>release_year</th>\n",
       "      <th>release_date</th>\n",
       "      <th>mood_tag</th>\n",
       "      <th>actors</th>\n",
       "      <th>creator</th>\n",
       "      <th>director</th>\n",
       "      <th>audio</th>\n",
       "      <th>subtitles</th>\n",
       "      <th>tags</th>\n",
       "      <th>similar_titles_id</th>\n",
       "      <th>production_country</th>\n",
       "    </tr>\n",
       "  </thead>\n",
       "  <tbody>\n",
       "    <tr>\n",
       "      <th>0</th>\n",
       "      <td>81747490</td>\n",
       "      <td>After Everything</td>\n",
       "      <td>Movie</td>\n",
       "      <td>A</td>\n",
       "      <td>1.55</td>\n",
       "      <td>Heartbroken and suffering from writer's block,...</td>\n",
       "      <td>Hero Fiennes Tiffin and Josephine Langford ret...</td>\n",
       "      <td>Drama</td>\n",
       "      <td>2024.0</td>\n",
       "      <td>2024-2-1</td>\n",
       "      <td>Emotional;Romantic</td>\n",
       "      <td>Hero Fiennes Tiffin;Josephine Langford;Mimi Ke...</td>\n",
       "      <td>NaN</td>\n",
       "      <td>Castille Landon</td>\n",
       "      <td>English - Audio Description;English [Original]</td>\n",
       "      <td>English</td>\n",
       "      <td>Dramas;Romantic Movies;Movies Based on Books;U...</td>\n",
       "      <td>81397456;81172914;81397455;81388078;81484068;8...</td>\n",
       "      <td>United States</td>\n",
       "    </tr>\n",
       "    <tr>\n",
       "      <th>1</th>\n",
       "      <td>81729517</td>\n",
       "      <td>Pete Davidson: Turbo Fonzarelli</td>\n",
       "      <td>Movie</td>\n",
       "      <td>A</td>\n",
       "      <td>0.9333</td>\n",
       "      <td>From his childhood crush on Leonardo DiCaprio ...</td>\n",
       "      <td>The actor and \"SNL\" alum riffs on turning 30, ...</td>\n",
       "      <td>Comedy</td>\n",
       "      <td>2024.0</td>\n",
       "      <td>2024-1-9</td>\n",
       "      <td>Absurd;Raunchy</td>\n",
       "      <td>Pete Davidson</td>\n",
       "      <td>NaN</td>\n",
       "      <td>Jason Orley</td>\n",
       "      <td>English - Audio Description;English [Original]</td>\n",
       "      <td>English</td>\n",
       "      <td>Stand-Up Comedy</td>\n",
       "      <td>81073637;81619082;81229595;80167499;81635847;8...</td>\n",
       "      <td>NaN</td>\n",
       "    </tr>\n",
       "    <tr>\n",
       "      <th>2</th>\n",
       "      <td>81704688</td>\n",
       "      <td>Kingdom 3: The Flame of Destiny</td>\n",
       "      <td>Movie</td>\n",
       "      <td>U/A 16+</td>\n",
       "      <td>2.15</td>\n",
       "      <td>To defend their kingdom against a sudden invas...</td>\n",
       "      <td>NaN</td>\n",
       "      <td>Action</td>\n",
       "      <td>2023.0</td>\n",
       "      <td>2024-1-9</td>\n",
       "      <td>Exciting</td>\n",
       "      <td>Kento Yamazaki;Ryo Yoshizawa;Kanna Hashimoto;N...</td>\n",
       "      <td>NaN</td>\n",
       "      <td>Shinsuke Sato</td>\n",
       "      <td>Japanese [Original]</td>\n",
       "      <td>English;Japanese</td>\n",
       "      <td>Japanese;Military Movies;Action &amp; Adventure Mo...</td>\n",
       "      <td>81153955;81631722;81313229;80180171;81067756;8...</td>\n",
       "      <td>Japan</td>\n",
       "    </tr>\n",
       "    <tr>\n",
       "      <th>3</th>\n",
       "      <td>81736316</td>\n",
       "      <td>Level 1 Demon Lord and One Room Hero</td>\n",
       "      <td>TVSeries</td>\n",
       "      <td>U/A 16+</td>\n",
       "      <td>1 Season</td>\n",
       "      <td>Ten years after his showdown with Max, the dem...</td>\n",
       "      <td>NaN</td>\n",
       "      <td>Anime</td>\n",
       "      <td>2023.0</td>\n",
       "      <td>2024-1-9</td>\n",
       "      <td>Raunchy;Goofy</td>\n",
       "      <td>Yuichi Nakamura;Naomi Ohzora;Yoko Hikasa;Yoshi...</td>\n",
       "      <td>NaN</td>\n",
       "      <td>NaN</td>\n",
       "      <td>NaN</td>\n",
       "      <td>NaN</td>\n",
       "      <td>Sci-Fi &amp; Fantasy Anime;Japanese;Anime Series;S...</td>\n",
       "      <td>81746882;70309073;80193178;81564899;81598010;8...</td>\n",
       "      <td>Japan</td>\n",
       "    </tr>\n",
       "    <tr>\n",
       "      <th>4</th>\n",
       "      <td>28369403</td>\n",
       "      <td>Galaxy Quest</td>\n",
       "      <td>Movie</td>\n",
       "      <td>U/A 13+</td>\n",
       "      <td>1.7</td>\n",
       "      <td>Decades after the success of a sci-fi series, ...</td>\n",
       "      <td>Tim Allen, Sigourney Weaver and Alan Rickman p...</td>\n",
       "      <td>Comedy</td>\n",
       "      <td>1999.0</td>\n",
       "      <td>2024-1-7</td>\n",
       "      <td>Campy;Absurd</td>\n",
       "      <td>Tim Allen;Sigourney Weaver;Alan Rickman;Tony S...</td>\n",
       "      <td>NaN</td>\n",
       "      <td>Dean Parisot</td>\n",
       "      <td>English - Audio Description;English [Original]...</td>\n",
       "      <td>English;Hindi</td>\n",
       "      <td>Sci-Fi Movies;Satires;Comedy Movies;Action &amp; A...</td>\n",
       "      <td>924712;70123542;81446739;81309354;80090726;600...</td>\n",
       "      <td>United States</td>\n",
       "    </tr>\n",
       "  </tbody>\n",
       "</table>\n",
       "</div>"
      ],
      "text/plain": [
       "     showid                                  name      type   rating  \\\n",
       "0  81747490                      After Everything     Movie        A   \n",
       "1  81729517       Pete Davidson: Turbo Fonzarelli     Movie        A   \n",
       "2  81704688       Kingdom 3: The Flame of Destiny     Movie  U/A 16+   \n",
       "3  81736316  Level 1 Demon Lord and One Room Hero  TVSeries  U/A 16+   \n",
       "4  28369403                          Galaxy Quest     Movie  U/A 13+   \n",
       "\n",
       "   duration                                        description  \\\n",
       "0      1.55  Heartbroken and suffering from writer's block,...   \n",
       "1    0.9333  From his childhood crush on Leonardo DiCaprio ...   \n",
       "2      2.15  To defend their kingdom against a sudden invas...   \n",
       "3  1 Season  Ten years after his showdown with Max, the dem...   \n",
       "4       1.7  Decades after the success of a sci-fi series, ...   \n",
       "\n",
       "                                           hook_text   genre  release_year  \\\n",
       "0  Hero Fiennes Tiffin and Josephine Langford ret...   Drama        2024.0   \n",
       "1  The actor and \"SNL\" alum riffs on turning 30, ...  Comedy        2024.0   \n",
       "2                                                NaN  Action        2023.0   \n",
       "3                                                NaN   Anime        2023.0   \n",
       "4  Tim Allen, Sigourney Weaver and Alan Rickman p...  Comedy        1999.0   \n",
       "\n",
       "  release_date            mood_tag  \\\n",
       "0     2024-2-1  Emotional;Romantic   \n",
       "1     2024-1-9      Absurd;Raunchy   \n",
       "2     2024-1-9            Exciting   \n",
       "3     2024-1-9       Raunchy;Goofy   \n",
       "4     2024-1-7        Campy;Absurd   \n",
       "\n",
       "                                              actors creator         director  \\\n",
       "0  Hero Fiennes Tiffin;Josephine Langford;Mimi Ke...     NaN  Castille Landon   \n",
       "1                                      Pete Davidson     NaN      Jason Orley   \n",
       "2  Kento Yamazaki;Ryo Yoshizawa;Kanna Hashimoto;N...     NaN    Shinsuke Sato   \n",
       "3  Yuichi Nakamura;Naomi Ohzora;Yoko Hikasa;Yoshi...     NaN              NaN   \n",
       "4  Tim Allen;Sigourney Weaver;Alan Rickman;Tony S...     NaN     Dean Parisot   \n",
       "\n",
       "                                               audio         subtitles  \\\n",
       "0     English - Audio Description;English [Original]           English   \n",
       "1     English - Audio Description;English [Original]           English   \n",
       "2                                Japanese [Original]  English;Japanese   \n",
       "3                                                NaN               NaN   \n",
       "4  English - Audio Description;English [Original]...     English;Hindi   \n",
       "\n",
       "                                                tags  \\\n",
       "0  Dramas;Romantic Movies;Movies Based on Books;U...   \n",
       "1                                    Stand-Up Comedy   \n",
       "2  Japanese;Military Movies;Action & Adventure Mo...   \n",
       "3  Sci-Fi & Fantasy Anime;Japanese;Anime Series;S...   \n",
       "4  Sci-Fi Movies;Satires;Comedy Movies;Action & A...   \n",
       "\n",
       "                                   similar_titles_id production_country  \n",
       "0  81397456;81172914;81397455;81388078;81484068;8...      United States  \n",
       "1  81073637;81619082;81229595;80167499;81635847;8...                NaN  \n",
       "2  81153955;81631722;81313229;80180171;81067756;8...              Japan  \n",
       "3  81746882;70309073;80193178;81564899;81598010;8...              Japan  \n",
       "4  924712;70123542;81446739;81309354;80090726;600...      United States  "
      ]
     },
     "execution_count": 3,
     "metadata": {},
     "output_type": "execute_result"
    }
   ],
   "source": [
    "data.head()"
   ]
  },
  {
   "cell_type": "code",
   "execution_count": 4,
   "id": "c938dc20",
   "metadata": {},
   "outputs": [
    {
     "data": {
      "text/plain": [
       "(6629, 19)"
      ]
     },
     "execution_count": 4,
     "metadata": {},
     "output_type": "execute_result"
    }
   ],
   "source": [
    "data.shape"
   ]
  },
  {
   "cell_type": "code",
   "execution_count": 5,
   "id": "d1766b7c",
   "metadata": {},
   "outputs": [
    {
     "name": "stdout",
     "output_type": "stream",
     "text": [
      "<class 'pandas.core.frame.DataFrame'>\n",
      "RangeIndex: 6629 entries, 0 to 6628\n",
      "Data columns (total 19 columns):\n",
      " #   Column              Non-Null Count  Dtype  \n",
      "---  ------              --------------  -----  \n",
      " 0   showid              6629 non-null   int64  \n",
      " 1   name                6629 non-null   object \n",
      " 2   type                6629 non-null   object \n",
      " 3   rating              6629 non-null   object \n",
      " 4   duration            6629 non-null   object \n",
      " 5   description         6629 non-null   object \n",
      " 6   hook_text           3144 non-null   object \n",
      " 7   genre               6629 non-null   object \n",
      " 8   release_year        6616 non-null   float64\n",
      " 9   release_date        6629 non-null   object \n",
      " 10  mood_tag            5987 non-null   object \n",
      " 11  actors              5974 non-null   object \n",
      " 12  creator             1164 non-null   object \n",
      " 13  director            4214 non-null   object \n",
      " 14  audio               3958 non-null   object \n",
      " 15  subtitles           3957 non-null   object \n",
      " 16  tags                6629 non-null   object \n",
      " 17  similar_titles_id   6619 non-null   object \n",
      " 18  production_country  6088 non-null   object \n",
      "dtypes: float64(1), int64(1), object(17)\n",
      "memory usage: 984.1+ KB\n"
     ]
    }
   ],
   "source": [
    "data.info()"
   ]
  },
  {
   "cell_type": "code",
   "execution_count": 6,
   "id": "bda3ebec",
   "metadata": {},
   "outputs": [
    {
     "data": {
      "text/html": [
       "<div>\n",
       "<style scoped>\n",
       "    .dataframe tbody tr th:only-of-type {\n",
       "        vertical-align: middle;\n",
       "    }\n",
       "\n",
       "    .dataframe tbody tr th {\n",
       "        vertical-align: top;\n",
       "    }\n",
       "\n",
       "    .dataframe thead th {\n",
       "        text-align: right;\n",
       "    }\n",
       "</style>\n",
       "<table border=\"1\" class=\"dataframe\">\n",
       "  <thead>\n",
       "    <tr style=\"text-align: right;\">\n",
       "      <th></th>\n",
       "      <th>showid</th>\n",
       "      <th>release_year</th>\n",
       "    </tr>\n",
       "  </thead>\n",
       "  <tbody>\n",
       "    <tr>\n",
       "      <th>count</th>\n",
       "      <td>6.629000e+03</td>\n",
       "      <td>6616.000000</td>\n",
       "    </tr>\n",
       "    <tr>\n",
       "      <th>mean</th>\n",
       "      <td>7.964040e+07</td>\n",
       "      <td>2018.313634</td>\n",
       "    </tr>\n",
       "    <tr>\n",
       "      <th>std</th>\n",
       "      <td>6.728613e+06</td>\n",
       "      <td>6.053056</td>\n",
       "    </tr>\n",
       "    <tr>\n",
       "      <th>min</th>\n",
       "      <td>2.153090e+05</td>\n",
       "      <td>1945.000000</td>\n",
       "    </tr>\n",
       "    <tr>\n",
       "      <th>25%</th>\n",
       "      <td>8.020400e+07</td>\n",
       "      <td>2017.000000</td>\n",
       "    </tr>\n",
       "    <tr>\n",
       "      <th>50%</th>\n",
       "      <td>8.114415e+07</td>\n",
       "      <td>2020.000000</td>\n",
       "    </tr>\n",
       "    <tr>\n",
       "      <th>75%</th>\n",
       "      <td>8.144263e+07</td>\n",
       "      <td>2022.000000</td>\n",
       "    </tr>\n",
       "    <tr>\n",
       "      <th>max</th>\n",
       "      <td>8.175538e+07</td>\n",
       "      <td>2024.000000</td>\n",
       "    </tr>\n",
       "  </tbody>\n",
       "</table>\n",
       "</div>"
      ],
      "text/plain": [
       "             showid  release_year\n",
       "count  6.629000e+03   6616.000000\n",
       "mean   7.964040e+07   2018.313634\n",
       "std    6.728613e+06      6.053056\n",
       "min    2.153090e+05   1945.000000\n",
       "25%    8.020400e+07   2017.000000\n",
       "50%    8.114415e+07   2020.000000\n",
       "75%    8.144263e+07   2022.000000\n",
       "max    8.175538e+07   2024.000000"
      ]
     },
     "execution_count": 6,
     "metadata": {},
     "output_type": "execute_result"
    }
   ],
   "source": [
    "data.describe()"
   ]
  },
  {
   "cell_type": "code",
   "execution_count": 7,
   "id": "2607a0ae",
   "metadata": {},
   "outputs": [],
   "source": [
    "data['release_date'] = pd.to_datetime(data['release_date'])"
   ]
  },
  {
   "cell_type": "code",
   "execution_count": 8,
   "id": "2a29a9b2",
   "metadata": {},
   "outputs": [
    {
     "name": "stdout",
     "output_type": "stream",
     "text": [
      "<class 'pandas.core.frame.DataFrame'>\n",
      "RangeIndex: 6629 entries, 0 to 6628\n",
      "Data columns (total 19 columns):\n",
      " #   Column              Non-Null Count  Dtype         \n",
      "---  ------              --------------  -----         \n",
      " 0   showid              6629 non-null   int64         \n",
      " 1   name                6629 non-null   object        \n",
      " 2   type                6629 non-null   object        \n",
      " 3   rating              6629 non-null   object        \n",
      " 4   duration            6629 non-null   object        \n",
      " 5   description         6629 non-null   object        \n",
      " 6   hook_text           3144 non-null   object        \n",
      " 7   genre               6629 non-null   object        \n",
      " 8   release_year        6616 non-null   float64       \n",
      " 9   release_date        6629 non-null   datetime64[ns]\n",
      " 10  mood_tag            5987 non-null   object        \n",
      " 11  actors              5974 non-null   object        \n",
      " 12  creator             1164 non-null   object        \n",
      " 13  director            4214 non-null   object        \n",
      " 14  audio               3958 non-null   object        \n",
      " 15  subtitles           3957 non-null   object        \n",
      " 16  tags                6629 non-null   object        \n",
      " 17  similar_titles_id   6619 non-null   object        \n",
      " 18  production_country  6088 non-null   object        \n",
      "dtypes: datetime64[ns](1), float64(1), int64(1), object(16)\n",
      "memory usage: 984.1+ KB\n"
     ]
    }
   ],
   "source": [
    "data.info()"
   ]
  },
  {
   "cell_type": "code",
   "execution_count": 9,
   "id": "53794bda",
   "metadata": {},
   "outputs": [
    {
     "data": {
      "text/plain": [
       "Index(['showid', 'name', 'type', 'rating', 'duration', 'description',\n",
       "       'hook_text', 'genre', 'release_year', 'release_date', 'mood_tag',\n",
       "       'actors', 'creator', 'director', 'audio', 'subtitles', 'tags',\n",
       "       'similar_titles_id', 'production_country'],\n",
       "      dtype='object')"
      ]
     },
     "execution_count": 9,
     "metadata": {},
     "output_type": "execute_result"
    }
   ],
   "source": [
    "data.columns"
   ]
  },
  {
   "cell_type": "code",
   "execution_count": 10,
   "id": "66bb67ec",
   "metadata": {},
   "outputs": [],
   "source": [
    "data.drop(['description', 'hook_text', 'similar_titles_id'], axis = 1, inplace = True)"
   ]
  },
  {
   "cell_type": "code",
   "execution_count": 11,
   "id": "36f4fbe4",
   "metadata": {},
   "outputs": [
    {
     "data": {
      "text/html": [
       "<div>\n",
       "<style scoped>\n",
       "    .dataframe tbody tr th:only-of-type {\n",
       "        vertical-align: middle;\n",
       "    }\n",
       "\n",
       "    .dataframe tbody tr th {\n",
       "        vertical-align: top;\n",
       "    }\n",
       "\n",
       "    .dataframe thead th {\n",
       "        text-align: right;\n",
       "    }\n",
       "</style>\n",
       "<table border=\"1\" class=\"dataframe\">\n",
       "  <thead>\n",
       "    <tr style=\"text-align: right;\">\n",
       "      <th></th>\n",
       "      <th>showid</th>\n",
       "      <th>name</th>\n",
       "      <th>type</th>\n",
       "      <th>rating</th>\n",
       "      <th>duration</th>\n",
       "      <th>genre</th>\n",
       "      <th>release_year</th>\n",
       "      <th>release_date</th>\n",
       "      <th>mood_tag</th>\n",
       "      <th>actors</th>\n",
       "      <th>creator</th>\n",
       "      <th>director</th>\n",
       "      <th>audio</th>\n",
       "      <th>subtitles</th>\n",
       "      <th>tags</th>\n",
       "      <th>production_country</th>\n",
       "    </tr>\n",
       "  </thead>\n",
       "  <tbody>\n",
       "    <tr>\n",
       "      <th>0</th>\n",
       "      <td>81747490</td>\n",
       "      <td>After Everything</td>\n",
       "      <td>Movie</td>\n",
       "      <td>A</td>\n",
       "      <td>1.55</td>\n",
       "      <td>Drama</td>\n",
       "      <td>2024.0</td>\n",
       "      <td>2024-02-01</td>\n",
       "      <td>Emotional;Romantic</td>\n",
       "      <td>Hero Fiennes Tiffin;Josephine Langford;Mimi Ke...</td>\n",
       "      <td>NaN</td>\n",
       "      <td>Castille Landon</td>\n",
       "      <td>English - Audio Description;English [Original]</td>\n",
       "      <td>English</td>\n",
       "      <td>Dramas;Romantic Movies;Movies Based on Books;U...</td>\n",
       "      <td>United States</td>\n",
       "    </tr>\n",
       "    <tr>\n",
       "      <th>1</th>\n",
       "      <td>81729517</td>\n",
       "      <td>Pete Davidson: Turbo Fonzarelli</td>\n",
       "      <td>Movie</td>\n",
       "      <td>A</td>\n",
       "      <td>0.9333</td>\n",
       "      <td>Comedy</td>\n",
       "      <td>2024.0</td>\n",
       "      <td>2024-01-09</td>\n",
       "      <td>Absurd;Raunchy</td>\n",
       "      <td>Pete Davidson</td>\n",
       "      <td>NaN</td>\n",
       "      <td>Jason Orley</td>\n",
       "      <td>English - Audio Description;English [Original]</td>\n",
       "      <td>English</td>\n",
       "      <td>Stand-Up Comedy</td>\n",
       "      <td>NaN</td>\n",
       "    </tr>\n",
       "    <tr>\n",
       "      <th>2</th>\n",
       "      <td>81704688</td>\n",
       "      <td>Kingdom 3: The Flame of Destiny</td>\n",
       "      <td>Movie</td>\n",
       "      <td>U/A 16+</td>\n",
       "      <td>2.15</td>\n",
       "      <td>Action</td>\n",
       "      <td>2023.0</td>\n",
       "      <td>2024-01-09</td>\n",
       "      <td>Exciting</td>\n",
       "      <td>Kento Yamazaki;Ryo Yoshizawa;Kanna Hashimoto;N...</td>\n",
       "      <td>NaN</td>\n",
       "      <td>Shinsuke Sato</td>\n",
       "      <td>Japanese [Original]</td>\n",
       "      <td>English;Japanese</td>\n",
       "      <td>Japanese;Military Movies;Action &amp; Adventure Mo...</td>\n",
       "      <td>Japan</td>\n",
       "    </tr>\n",
       "    <tr>\n",
       "      <th>3</th>\n",
       "      <td>81736316</td>\n",
       "      <td>Level 1 Demon Lord and One Room Hero</td>\n",
       "      <td>TVSeries</td>\n",
       "      <td>U/A 16+</td>\n",
       "      <td>1 Season</td>\n",
       "      <td>Anime</td>\n",
       "      <td>2023.0</td>\n",
       "      <td>2024-01-09</td>\n",
       "      <td>Raunchy;Goofy</td>\n",
       "      <td>Yuichi Nakamura;Naomi Ohzora;Yoko Hikasa;Yoshi...</td>\n",
       "      <td>NaN</td>\n",
       "      <td>NaN</td>\n",
       "      <td>NaN</td>\n",
       "      <td>NaN</td>\n",
       "      <td>Sci-Fi &amp; Fantasy Anime;Japanese;Anime Series;S...</td>\n",
       "      <td>Japan</td>\n",
       "    </tr>\n",
       "    <tr>\n",
       "      <th>4</th>\n",
       "      <td>28369403</td>\n",
       "      <td>Galaxy Quest</td>\n",
       "      <td>Movie</td>\n",
       "      <td>U/A 13+</td>\n",
       "      <td>1.7</td>\n",
       "      <td>Comedy</td>\n",
       "      <td>1999.0</td>\n",
       "      <td>2024-01-07</td>\n",
       "      <td>Campy;Absurd</td>\n",
       "      <td>Tim Allen;Sigourney Weaver;Alan Rickman;Tony S...</td>\n",
       "      <td>NaN</td>\n",
       "      <td>Dean Parisot</td>\n",
       "      <td>English - Audio Description;English [Original]...</td>\n",
       "      <td>English;Hindi</td>\n",
       "      <td>Sci-Fi Movies;Satires;Comedy Movies;Action &amp; A...</td>\n",
       "      <td>United States</td>\n",
       "    </tr>\n",
       "  </tbody>\n",
       "</table>\n",
       "</div>"
      ],
      "text/plain": [
       "     showid                                  name      type   rating  \\\n",
       "0  81747490                      After Everything     Movie        A   \n",
       "1  81729517       Pete Davidson: Turbo Fonzarelli     Movie        A   \n",
       "2  81704688       Kingdom 3: The Flame of Destiny     Movie  U/A 16+   \n",
       "3  81736316  Level 1 Demon Lord and One Room Hero  TVSeries  U/A 16+   \n",
       "4  28369403                          Galaxy Quest     Movie  U/A 13+   \n",
       "\n",
       "   duration   genre  release_year release_date            mood_tag  \\\n",
       "0      1.55   Drama        2024.0   2024-02-01  Emotional;Romantic   \n",
       "1    0.9333  Comedy        2024.0   2024-01-09      Absurd;Raunchy   \n",
       "2      2.15  Action        2023.0   2024-01-09            Exciting   \n",
       "3  1 Season   Anime        2023.0   2024-01-09       Raunchy;Goofy   \n",
       "4       1.7  Comedy        1999.0   2024-01-07        Campy;Absurd   \n",
       "\n",
       "                                              actors creator         director  \\\n",
       "0  Hero Fiennes Tiffin;Josephine Langford;Mimi Ke...     NaN  Castille Landon   \n",
       "1                                      Pete Davidson     NaN      Jason Orley   \n",
       "2  Kento Yamazaki;Ryo Yoshizawa;Kanna Hashimoto;N...     NaN    Shinsuke Sato   \n",
       "3  Yuichi Nakamura;Naomi Ohzora;Yoko Hikasa;Yoshi...     NaN              NaN   \n",
       "4  Tim Allen;Sigourney Weaver;Alan Rickman;Tony S...     NaN     Dean Parisot   \n",
       "\n",
       "                                               audio         subtitles  \\\n",
       "0     English - Audio Description;English [Original]           English   \n",
       "1     English - Audio Description;English [Original]           English   \n",
       "2                                Japanese [Original]  English;Japanese   \n",
       "3                                                NaN               NaN   \n",
       "4  English - Audio Description;English [Original]...     English;Hindi   \n",
       "\n",
       "                                                tags production_country  \n",
       "0  Dramas;Romantic Movies;Movies Based on Books;U...      United States  \n",
       "1                                    Stand-Up Comedy                NaN  \n",
       "2  Japanese;Military Movies;Action & Adventure Mo...              Japan  \n",
       "3  Sci-Fi & Fantasy Anime;Japanese;Anime Series;S...              Japan  \n",
       "4  Sci-Fi Movies;Satires;Comedy Movies;Action & A...      United States  "
      ]
     },
     "execution_count": 11,
     "metadata": {},
     "output_type": "execute_result"
    }
   ],
   "source": [
    "data.head()"
   ]
  },
  {
   "cell_type": "code",
   "execution_count": 13,
   "id": "e97e4748",
   "metadata": {},
   "outputs": [
    {
     "data": {
      "text/plain": [
       "array([nan, 'Byron Wu;Brad Falchuk', 'Rajiv Chilaka', ...,\n",
       "       'Steven Knight', 'Reg Watson;Lara Radulovich;David Hannan',\n",
       "       'David Cross;Bob Odenkirk'], dtype=object)"
      ]
     },
     "execution_count": 13,
     "metadata": {},
     "output_type": "execute_result"
    }
   ],
   "source": [
    "data.creator.unique()"
   ]
  },
  {
   "cell_type": "code",
   "execution_count": 14,
   "id": "cf2721cd",
   "metadata": {},
   "outputs": [],
   "source": [
    "data['release_month'] = data['release_date'].dt.strftime('%m')"
   ]
  },
  {
   "cell_type": "code",
   "execution_count": 15,
   "id": "878e995e",
   "metadata": {},
   "outputs": [
    {
     "data": {
      "text/html": [
       "<div>\n",
       "<style scoped>\n",
       "    .dataframe tbody tr th:only-of-type {\n",
       "        vertical-align: middle;\n",
       "    }\n",
       "\n",
       "    .dataframe tbody tr th {\n",
       "        vertical-align: top;\n",
       "    }\n",
       "\n",
       "    .dataframe thead th {\n",
       "        text-align: right;\n",
       "    }\n",
       "</style>\n",
       "<table border=\"1\" class=\"dataframe\">\n",
       "  <thead>\n",
       "    <tr style=\"text-align: right;\">\n",
       "      <th></th>\n",
       "      <th>showid</th>\n",
       "      <th>name</th>\n",
       "      <th>type</th>\n",
       "      <th>rating</th>\n",
       "      <th>duration</th>\n",
       "      <th>genre</th>\n",
       "      <th>release_year</th>\n",
       "      <th>release_date</th>\n",
       "      <th>mood_tag</th>\n",
       "      <th>actors</th>\n",
       "      <th>creator</th>\n",
       "      <th>director</th>\n",
       "      <th>audio</th>\n",
       "      <th>subtitles</th>\n",
       "      <th>tags</th>\n",
       "      <th>production_country</th>\n",
       "      <th>release_month</th>\n",
       "    </tr>\n",
       "  </thead>\n",
       "  <tbody>\n",
       "    <tr>\n",
       "      <th>0</th>\n",
       "      <td>81747490</td>\n",
       "      <td>After Everything</td>\n",
       "      <td>Movie</td>\n",
       "      <td>A</td>\n",
       "      <td>1.55</td>\n",
       "      <td>Drama</td>\n",
       "      <td>2024.0</td>\n",
       "      <td>2024-02-01</td>\n",
       "      <td>Emotional;Romantic</td>\n",
       "      <td>Hero Fiennes Tiffin;Josephine Langford;Mimi Ke...</td>\n",
       "      <td>NaN</td>\n",
       "      <td>Castille Landon</td>\n",
       "      <td>English - Audio Description;English [Original]</td>\n",
       "      <td>English</td>\n",
       "      <td>Dramas;Romantic Movies;Movies Based on Books;U...</td>\n",
       "      <td>United States</td>\n",
       "      <td>02</td>\n",
       "    </tr>\n",
       "  </tbody>\n",
       "</table>\n",
       "</div>"
      ],
      "text/plain": [
       "     showid              name   type rating duration  genre  release_year  \\\n",
       "0  81747490  After Everything  Movie      A     1.55  Drama        2024.0   \n",
       "\n",
       "  release_date            mood_tag  \\\n",
       "0   2024-02-01  Emotional;Romantic   \n",
       "\n",
       "                                              actors creator         director  \\\n",
       "0  Hero Fiennes Tiffin;Josephine Langford;Mimi Ke...     NaN  Castille Landon   \n",
       "\n",
       "                                            audio subtitles  \\\n",
       "0  English - Audio Description;English [Original]   English   \n",
       "\n",
       "                                                tags production_country  \\\n",
       "0  Dramas;Romantic Movies;Movies Based on Books;U...      United States   \n",
       "\n",
       "  release_month  \n",
       "0            02  "
      ]
     },
     "execution_count": 15,
     "metadata": {},
     "output_type": "execute_result"
    }
   ],
   "source": [
    "data.head(1)"
   ]
  },
  {
   "cell_type": "code",
   "execution_count": 101,
   "id": "3f666619",
   "metadata": {},
   "outputs": [
    {
     "data": {
      "image/png": "[encoded data removed]",
      "text/plain": [
       "<Figure size 1080x432 with 1 Axes>"
      ]
     },
     "metadata": {
      "needs_background": "light"
     },
     "output_type": "display_data"
    }
   ],
   "source": [
    "plt.figure(figsize = (15, 6))\n",
    "data.groupby('release_year').count()['showid'].plot(kind = 'bar', color = 'orange')\n",
    "plt.show()"
   ]
  },
  {
   "cell_type": "code",
   "execution_count": 102,
   "id": "946ea631",
   "metadata": {},
   "outputs": [
    {
     "data": {
      "text/plain": [
       "<AxesSubplot:xlabel='release_month'>"
      ]
     },
     "execution_count": 102,
     "metadata": {},
     "output_type": "execute_result"
    },
    {
     "data": {
      "image/png": "[encoded data removed]",
      "text/plain": [
       "<Figure size 432x288 with 1 Axes>"
      ]
     },
     "metadata": {
      "needs_background": "light"
     },
     "output_type": "display_data"
    }
   ],
   "source": [
    "data.groupby(['release_month']).count()['showid'].plot(kind = 'bar', color = 'orange')"
   ]
  },
  {
   "cell_type": "code",
   "execution_count": 108,
   "id": "af264bcd",
   "metadata": {},
   "outputs": [
    {
     "data": {
      "text/plain": [
       "Movie       3962\n",
       "TVSeries    2667\n",
       "Name: type, dtype: int64"
      ]
     },
     "execution_count": 108,
     "metadata": {},
     "output_type": "execute_result"
    }
   ],
   "source": [
    "data.type.value_counts()"
   ]
  },
  {
   "cell_type": "code",
   "execution_count": 107,
   "id": "d0ec45ef",
   "metadata": {},
   "outputs": [
    {
     "data": {
      "text/plain": [
       "<AxesSubplot:>"
      ]
     },
     "execution_count": 107,
     "metadata": {},
     "output_type": "execute_result"
    },
    {
     "data": {
      "image/png": "[encoded data removed]",
      "text/plain": [
       "<Figure size 432x288 with 1 Axes>"
      ]
     },
     "metadata": {
      "needs_background": "light"
     },
     "output_type": "display_data"
    }
   ],
   "source": [
    "data.type.value_counts().plot(kind = 'bar')"
   ]
  },
  {
   "cell_type": "code",
   "execution_count": 110,
   "id": "b59e87b3",
   "metadata": {},
   "outputs": [
    {
     "data": {
      "text/plain": [
       "Drama               1721\n",
       "Comedy              1343\n",
       "Documentary          784\n",
       "Kids                 639\n",
       "Action               463\n",
       "Thriller             353\n",
       "Romance              348\n",
       "Anime                287\n",
       "Reality TV           259\n",
       "Horror               221\n",
       "Sci-Fi                83\n",
       "Fantasy               65\n",
       "Music                 25\n",
       "Talk Show             10\n",
       "Variety TV             9\n",
       "Musical                7\n",
       "Sports                 4\n",
       "Western                4\n",
       "Special Interest       3\n",
       "Friendship             1\n",
       "Name: genre, dtype: int64"
      ]
     },
     "execution_count": 110,
     "metadata": {},
     "output_type": "execute_result"
    }
   ],
   "source": [
    "data.genre.value_counts()"
   ]
  },
  {
   "cell_type": "code",
   "execution_count": 111,
   "id": "0ade1ed5",
   "metadata": {},
   "outputs": [
    {
     "data": {
      "text/plain": [
       "<AxesSubplot:>"
      ]
     },
     "execution_count": 111,
     "metadata": {},
     "output_type": "execute_result"
    },
    {
     "data": {
      "image/png": "[encoded data removed]",
      "text/plain": [
       "<Figure size 432x288 with 1 Axes>"
      ]
     },
     "metadata": {
      "needs_background": "light"
     },
     "output_type": "display_data"
    }
   ],
   "source": [
    "data.genre.value_counts().plot(kind = 'bar', color = 'red')"
   ]
  },
  {
   "cell_type": "code",
   "execution_count": 117,
   "id": "198fd01d",
   "metadata": {},
   "outputs": [
    {
     "data": {
      "text/plain": [
       "production_country  genre      \n",
       "Afganistan          Documentary     1\n",
       "Africa              Action          1\n",
       "                    Comedy         35\n",
       "                    Documentary     2\n",
       "                    Drama          89\n",
       "                                   ..\n",
       "Vietnam             Drama           3\n",
       "                    Horror          1\n",
       "                    Reality TV      1\n",
       "                    Romance         3\n",
       "                    Thriller        2\n",
       "Name: showid, Length: 371, dtype: int64"
      ]
     },
     "execution_count": 117,
     "metadata": {},
     "output_type": "execute_result"
    }
   ],
   "source": [
    "data.groupby(['production_country', 'genre']).count()['showid']\n"
   ]
  },
  {
   "cell_type": "code",
   "execution_count": null,
   "id": "5b1a9532",
   "metadata": {},
   "outputs": [],
   "source": []
  },
  {
   "cell_type": "code",
   "execution_count": 135,
   "id": "445abce6",
   "metadata": {},
   "outputs": [
    {
     "data": {
      "text/plain": [
       "Suhas Kadav              17\n",
       "Raúl Campos;Jan Suter    17\n",
       "Rajiv Chilaka            16\n",
       "Marcus Raboy             15\n",
       "Ryan Polito              14\n",
       "                         ..\n",
       "Franz Kirchner            1\n",
       "David Blue Garcia         1\n",
       "Hebru Brantley            1\n",
       "Roel Reiné                1\n",
       "Jerrold Tarog             1\n",
       "Name: director, Length: 3071, dtype: int64"
      ]
     },
     "execution_count": 135,
     "metadata": {},
     "output_type": "execute_result"
    }
   ],
   "source": [
    "data.director.value_counts()"
   ]
  },
  {
   "cell_type": "code",
   "execution_count": 138,
   "id": "693a56b5",
   "metadata": {},
   "outputs": [
    {
     "data": {
      "text/plain": [
       "United States           1882\n",
       "India                    858\n",
       "Japan                    473\n",
       "South Korea              400\n",
       "United Kingdom           260\n",
       "Spain                    202\n",
       "Mexico                   148\n",
       "Africa                   146\n",
       "France                   126\n",
       "China                    122\n",
       "Canada                   110\n",
       "Brazil                   100\n",
       "Germany                   85\n",
       "Indonesia                 82\n",
       "Turkey                    77\n",
       "Italy                     76\n",
       "South Africa              74\n",
       "Taiwan                    71\n",
       "Poland                    68\n",
       "Egypt                     68\n",
       "Australia                 67\n",
       "Thailand                  63\n",
       "Philippines               57\n",
       "Colombia                  47\n",
       "Argentina                 44\n",
       "Scandinavia               37\n",
       "Malaysia                  33\n",
       "Singapore                 27\n",
       "Middle East               25\n",
       "Saudi Arabia              24\n",
       "Norway                    23\n",
       "Netherlands               22\n",
       "Vietnam                   20\n",
       "Lebanon                   19\n",
       "Nigeria                   17\n",
       "Swaden                    16\n",
       "Belgium                   16\n",
       "United Arab Emirates      15\n",
       "Russia                    11\n",
       "Kuwait                    11\n",
       "Chile                      8\n",
       "Denmark                    8\n",
       "Peru                       7\n",
       "Israel                     7\n",
       "Ireland                    6\n",
       "Syria                      5\n",
       "Austria                    4\n",
       "Romania                    4\n",
       "New Zealand                3\n",
       "Portugal                   3\n",
       "Ukraine                    3\n",
       "Greece                     2\n",
       "Switzerland                2\n",
       "Afganistan                 1\n",
       "Nepal                      1\n",
       "Finland                    1\n",
       "Czech Republic             1\n",
       "Name: production_country, dtype: int64"
      ]
     },
     "execution_count": 138,
     "metadata": {},
     "output_type": "execute_result"
    }
   ],
   "source": [
    "data['production_country'].value_counts()"
   ]
  },
  {
   "cell_type": "code",
   "execution_count": null,
   "id": "9cdd3215",
   "metadata": {},
   "outputs": [],
   "source": []
  }
 ],
 "metadata": {
  "kernelspec": {
   "display_name": "Python 3 (ipykernel)",
   "language": "python",
   "name": "python3"
  },
  "language_info": {
   "codemirror_mode": {
    "name": "ipython",
    "version": 3
   },
   "file_extension": ".py",
   "mimetype": "text/x-python",
   "name": "python",
   "nbconvert_exporter": "python",
   "pygments_lexer": "ipython3",
   "version": "3.10.1"
  }
 },
 "nbformat": 4,
 "nbformat_minor": 5
}
