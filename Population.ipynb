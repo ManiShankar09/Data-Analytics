{
 "cells": [
  {
   "cell_type": "code",
   "execution_count": 41,
   "id": "e8e1393d",
   "metadata": {
    "scrolled": false
   },
   "outputs": [
    {
     "data": {
      "text/html": [
       "<div>\n",
       "<style scoped>\n",
       "    .dataframe tbody tr th:only-of-type {\n",
       "        vertical-align: middle;\n",
       "    }\n",
       "\n",
       "    .dataframe tbody tr th {\n",
       "        vertical-align: top;\n",
       "    }\n",
       "\n",
       "    .dataframe thead th {\n",
       "        text-align: right;\n",
       "    }\n",
       "</style>\n",
       "<table border=\"1\" class=\"dataframe\">\n",
       "  <thead>\n",
       "    <tr style=\"text-align: right;\">\n",
       "      <th></th>\n",
       "      <th>Ranking</th>\n",
       "      <th>District</th>\n",
       "      <th>State</th>\n",
       "      <th>Population</th>\n",
       "      <th>Growth</th>\n",
       "      <th>Sex-Ratio</th>\n",
       "      <th>Literacy</th>\n",
       "    </tr>\n",
       "  </thead>\n",
       "  <tbody>\n",
       "    <tr>\n",
       "      <th>0</th>\n",
       "      <td>1</td>\n",
       "      <td>Thane</td>\n",
       "      <td>Maharashtra</td>\n",
       "      <td>11,060,148</td>\n",
       "      <td>36.01 %</td>\n",
       "      <td>886</td>\n",
       "      <td>84.53</td>\n",
       "    </tr>\n",
       "    <tr>\n",
       "      <th>1</th>\n",
       "      <td>2</td>\n",
       "      <td>North Twenty Four Parganas</td>\n",
       "      <td>West Bengal</td>\n",
       "      <td>10,009,781</td>\n",
       "      <td>12.04 %</td>\n",
       "      <td>955</td>\n",
       "      <td>84.06</td>\n",
       "    </tr>\n",
       "    <tr>\n",
       "      <th>2</th>\n",
       "      <td>3</td>\n",
       "      <td>Bangalore</td>\n",
       "      <td>Karnataka</td>\n",
       "      <td>9,621,551</td>\n",
       "      <td>47.18 %</td>\n",
       "      <td>916</td>\n",
       "      <td>87.67</td>\n",
       "    </tr>\n",
       "    <tr>\n",
       "      <th>3</th>\n",
       "      <td>4</td>\n",
       "      <td>Pune</td>\n",
       "      <td>Maharashtra</td>\n",
       "      <td>9,429,408</td>\n",
       "      <td>30.37 %</td>\n",
       "      <td>915</td>\n",
       "      <td>86.15</td>\n",
       "    </tr>\n",
       "    <tr>\n",
       "      <th>4</th>\n",
       "      <td>5</td>\n",
       "      <td>Mumbai Suburban</td>\n",
       "      <td>Maharashtra</td>\n",
       "      <td>9,356,962</td>\n",
       "      <td>8.29 %</td>\n",
       "      <td>860</td>\n",
       "      <td>89.91</td>\n",
       "    </tr>\n",
       "  </tbody>\n",
       "</table>\n",
       "</div>"
      ],
      "text/plain": [
       "   Ranking                    District        State  Population   Growth  \\\n",
       "0        1                       Thane  Maharashtra  11,060,148  36.01 %   \n",
       "1        2  North Twenty Four Parganas  West Bengal  10,009,781  12.04 %   \n",
       "2        3                   Bangalore    Karnataka   9,621,551  47.18 %   \n",
       "3        4                        Pune  Maharashtra   9,429,408  30.37 %   \n",
       "4        5             Mumbai Suburban  Maharashtra   9,356,962   8.29 %   \n",
       "\n",
       "   Sex-Ratio  Literacy  \n",
       "0        886     84.53  \n",
       "1        955     84.06  \n",
       "2        916     87.67  \n",
       "3        915     86.15  \n",
       "4        860     89.91  "
      ]
     },
     "execution_count": 41,
     "metadata": {},
     "output_type": "execute_result"
    }
   ],
   "source": [
    "import matplotlib.pyplot as plt\n",
    "import pandas as pd\n",
    "data = pd.read_csv('census2011.csv')\n",
    "data.head()"
   ]
  },
  {
   "cell_type": "code",
   "execution_count": 42,
   "id": "49cd56ba",
   "metadata": {
    "scrolled": true
   },
   "outputs": [
    {
     "name": "stdout",
     "output_type": "stream",
     "text": [
      "<class 'pandas.core.frame.DataFrame'>\n",
      "RangeIndex: 610 entries, 0 to 609\n",
      "Data columns (total 7 columns):\n",
      " #   Column      Non-Null Count  Dtype  \n",
      "---  ------      --------------  -----  \n",
      " 0   Ranking     610 non-null    int64  \n",
      " 1   District    610 non-null    object \n",
      " 2   State       610 non-null    object \n",
      " 3   Population  610 non-null    object \n",
      " 4   Growth      610 non-null    object \n",
      " 5   Sex-Ratio   610 non-null    int64  \n",
      " 6   Literacy    610 non-null    float64\n",
      "dtypes: float64(1), int64(2), object(4)\n",
      "memory usage: 33.5+ KB\n"
     ]
    }
   ],
   "source": [
    "data.info()"
   ]
  },
  {
   "cell_type": "code",
   "execution_count": 43,
   "id": "1b6c1bfa",
   "metadata": {
    "scrolled": true
   },
   "outputs": [
    {
     "data": {
      "text/html": [
       "<div>\n",
       "<style scoped>\n",
       "    .dataframe tbody tr th:only-of-type {\n",
       "        vertical-align: middle;\n",
       "    }\n",
       "\n",
       "    .dataframe tbody tr th {\n",
       "        vertical-align: top;\n",
       "    }\n",
       "\n",
       "    .dataframe thead th {\n",
       "        text-align: right;\n",
       "    }\n",
       "</style>\n",
       "<table border=\"1\" class=\"dataframe\">\n",
       "  <thead>\n",
       "    <tr style=\"text-align: right;\">\n",
       "      <th></th>\n",
       "      <th>Ranking</th>\n",
       "      <th>Sex-Ratio</th>\n",
       "      <th>Literacy</th>\n",
       "    </tr>\n",
       "  </thead>\n",
       "  <tbody>\n",
       "    <tr>\n",
       "      <th>count</th>\n",
       "      <td>610.000000</td>\n",
       "      <td>610.000000</td>\n",
       "      <td>610.000000</td>\n",
       "    </tr>\n",
       "    <tr>\n",
       "      <th>mean</th>\n",
       "      <td>329.598361</td>\n",
       "      <td>944.914754</td>\n",
       "      <td>72.344344</td>\n",
       "    </tr>\n",
       "    <tr>\n",
       "      <th>std</th>\n",
       "      <td>184.656903</td>\n",
       "      <td>61.247694</td>\n",
       "      <td>10.540881</td>\n",
       "    </tr>\n",
       "    <tr>\n",
       "      <th>min</th>\n",
       "      <td>1.000000</td>\n",
       "      <td>534.000000</td>\n",
       "      <td>36.100000</td>\n",
       "    </tr>\n",
       "    <tr>\n",
       "      <th>25%</th>\n",
       "      <td>183.250000</td>\n",
       "      <td>905.000000</td>\n",
       "      <td>65.255000</td>\n",
       "    </tr>\n",
       "    <tr>\n",
       "      <th>50%</th>\n",
       "      <td>335.500000</td>\n",
       "      <td>948.000000</td>\n",
       "      <td>72.150000</td>\n",
       "    </tr>\n",
       "    <tr>\n",
       "      <th>75%</th>\n",
       "      <td>487.750000</td>\n",
       "      <td>982.000000</td>\n",
       "      <td>79.987500</td>\n",
       "    </tr>\n",
       "    <tr>\n",
       "      <th>max</th>\n",
       "      <td>640.000000</td>\n",
       "      <td>1184.000000</td>\n",
       "      <td>97.910000</td>\n",
       "    </tr>\n",
       "  </tbody>\n",
       "</table>\n",
       "</div>"
      ],
      "text/plain": [
       "          Ranking    Sex-Ratio    Literacy\n",
       "count  610.000000   610.000000  610.000000\n",
       "mean   329.598361   944.914754   72.344344\n",
       "std    184.656903    61.247694   10.540881\n",
       "min      1.000000   534.000000   36.100000\n",
       "25%    183.250000   905.000000   65.255000\n",
       "50%    335.500000   948.000000   72.150000\n",
       "75%    487.750000   982.000000   79.987500\n",
       "max    640.000000  1184.000000   97.910000"
      ]
     },
     "execution_count": 43,
     "metadata": {},
     "output_type": "execute_result"
    }
   ],
   "source": [
    "data.describe()"
   ]
  },
  {
   "cell_type": "code",
   "execution_count": 113,
   "id": "78f8309e",
   "metadata": {},
   "outputs": [
    {
     "data": {
      "text/html": [
       "<div>\n",
       "<style scoped>\n",
       "    .dataframe tbody tr th:only-of-type {\n",
       "        vertical-align: middle;\n",
       "    }\n",
       "\n",
       "    .dataframe tbody tr th {\n",
       "        vertical-align: top;\n",
       "    }\n",
       "\n",
       "    .dataframe thead th {\n",
       "        text-align: right;\n",
       "    }\n",
       "</style>\n",
       "<table border=\"1\" class=\"dataframe\">\n",
       "  <thead>\n",
       "    <tr style=\"text-align: right;\">\n",
       "      <th></th>\n",
       "      <th>Ranking</th>\n",
       "      <th>District</th>\n",
       "      <th>State</th>\n",
       "      <th>Growth</th>\n",
       "      <th>Sex-Ratio</th>\n",
       "      <th>Literacy</th>\n",
       "    </tr>\n",
       "    <tr>\n",
       "      <th>Population</th>\n",
       "      <th></th>\n",
       "      <th></th>\n",
       "      <th></th>\n",
       "      <th></th>\n",
       "      <th></th>\n",
       "      <th></th>\n",
       "    </tr>\n",
       "  </thead>\n",
       "  <tbody>\n",
       "    <tr>\n",
       "      <th>8004</th>\n",
       "      <td>640</td>\n",
       "      <td>Dibang Valley</td>\n",
       "      <td>Arunachal Pradesh</td>\n",
       "      <td>10.07 %</td>\n",
       "      <td>813</td>\n",
       "      <td>64.1</td>\n",
       "    </tr>\n",
       "  </tbody>\n",
       "</table>\n",
       "</div>"
      ],
      "text/plain": [
       "            Ranking       District              State   Growth  Sex-Ratio  \\\n",
       "Population                                                                  \n",
       "8004            640  Dibang Valley  Arunachal Pradesh  10.07 %        813   \n",
       "\n",
       "            Literacy  \n",
       "Population            \n",
       "8004            64.1  "
      ]
     },
     "execution_count": 113,
     "metadata": {},
     "output_type": "execute_result"
    }
   ],
   "source": [
    "data.groupby('Population').max()[:1]"
   ]
  },
  {
   "cell_type": "code",
   "execution_count": null,
   "id": "8e7886f2",
   "metadata": {
    "scrolled": false
   },
   "outputs": [],
   "source": []
  },
  {
   "cell_type": "code",
   "execution_count": 46,
   "id": "5da7bd32",
   "metadata": {},
   "outputs": [],
   "source": [
    "data['Population'] = data['Population'].str.replace(',', '').astype(int)"
   ]
  },
  {
   "cell_type": "code",
   "execution_count": 48,
   "id": "74c87be5",
   "metadata": {},
   "outputs": [
    {
     "name": "stdout",
     "output_type": "stream",
     "text": [
      "<class 'pandas.core.frame.DataFrame'>\n",
      "RangeIndex: 610 entries, 0 to 609\n",
      "Data columns (total 7 columns):\n",
      " #   Column      Non-Null Count  Dtype  \n",
      "---  ------      --------------  -----  \n",
      " 0   Ranking     610 non-null    int64  \n",
      " 1   District    610 non-null    object \n",
      " 2   State       610 non-null    object \n",
      " 3   Population  610 non-null    int32  \n",
      " 4   Growth      610 non-null    object \n",
      " 5   Sex-Ratio   610 non-null    int64  \n",
      " 6   Literacy    610 non-null    float64\n",
      "dtypes: float64(1), int32(1), int64(2), object(3)\n",
      "memory usage: 31.1+ KB\n"
     ]
    }
   ],
   "source": [
    "data.info()"
   ]
  },
  {
   "cell_type": "code",
   "execution_count": 65,
   "id": "f5688198",
   "metadata": {},
   "outputs": [
    {
     "data": {
      "image/png": "[encoded data removed]",
      "text/plain": [
       "<Figure size 1080x432 with 1 Axes>"
      ]
     },
     "metadata": {
      "needs_background": "light"
     },
     "output_type": "display_data"
    }
   ],
   "source": [
    "plt.figure(figsize = (15, 6))\n",
    "plt.bar(data.State, data.Population)\n",
    "plt.xticks(rotation = 90)\n",
    "plt.show()"
   ]
  },
  {
   "cell_type": "code",
   "execution_count": 99,
   "id": "b21e9b80",
   "metadata": {},
   "outputs": [
    {
     "data": {
      "text/html": [
       "<div>\n",
       "<style scoped>\n",
       "    .dataframe tbody tr th:only-of-type {\n",
       "        vertical-align: middle;\n",
       "    }\n",
       "\n",
       "    .dataframe tbody tr th {\n",
       "        vertical-align: top;\n",
       "    }\n",
       "\n",
       "    .dataframe thead th {\n",
       "        text-align: right;\n",
       "    }\n",
       "</style>\n",
       "<table border=\"1\" class=\"dataframe\">\n",
       "  <thead>\n",
       "    <tr style=\"text-align: right;\">\n",
       "      <th></th>\n",
       "      <th>Ranking</th>\n",
       "      <th>District</th>\n",
       "      <th>State</th>\n",
       "      <th>Population</th>\n",
       "      <th>Growth</th>\n",
       "      <th>Sex-Ratio</th>\n",
       "      <th>Literacy</th>\n",
       "    </tr>\n",
       "  </thead>\n",
       "  <tbody>\n",
       "    <tr>\n",
       "      <th>0</th>\n",
       "      <td>1</td>\n",
       "      <td>Thane</td>\n",
       "      <td>Maharashtra</td>\n",
       "      <td>11060148</td>\n",
       "      <td>36.01 %</td>\n",
       "      <td>886</td>\n",
       "      <td>84.53</td>\n",
       "    </tr>\n",
       "    <tr>\n",
       "      <th>1</th>\n",
       "      <td>2</td>\n",
       "      <td>North Twenty Four Parganas</td>\n",
       "      <td>West Bengal</td>\n",
       "      <td>10009781</td>\n",
       "      <td>12.04 %</td>\n",
       "      <td>955</td>\n",
       "      <td>84.06</td>\n",
       "    </tr>\n",
       "    <tr>\n",
       "      <th>2</th>\n",
       "      <td>3</td>\n",
       "      <td>Bangalore</td>\n",
       "      <td>Karnataka</td>\n",
       "      <td>9621551</td>\n",
       "      <td>47.18 %</td>\n",
       "      <td>916</td>\n",
       "      <td>87.67</td>\n",
       "    </tr>\n",
       "    <tr>\n",
       "      <th>3</th>\n",
       "      <td>4</td>\n",
       "      <td>Pune</td>\n",
       "      <td>Maharashtra</td>\n",
       "      <td>9429408</td>\n",
       "      <td>30.37 %</td>\n",
       "      <td>915</td>\n",
       "      <td>86.15</td>\n",
       "    </tr>\n",
       "    <tr>\n",
       "      <th>4</th>\n",
       "      <td>5</td>\n",
       "      <td>Mumbai Suburban</td>\n",
       "      <td>Maharashtra</td>\n",
       "      <td>9356962</td>\n",
       "      <td>8.29 %</td>\n",
       "      <td>860</td>\n",
       "      <td>89.91</td>\n",
       "    </tr>\n",
       "  </tbody>\n",
       "</table>\n",
       "</div>"
      ],
      "text/plain": [
       "   Ranking                    District        State  Population   Growth  \\\n",
       "0        1                       Thane  Maharashtra    11060148  36.01 %   \n",
       "1        2  North Twenty Four Parganas  West Bengal    10009781  12.04 %   \n",
       "2        3                   Bangalore    Karnataka     9621551  47.18 %   \n",
       "3        4                        Pune  Maharashtra     9429408  30.37 %   \n",
       "4        5             Mumbai Suburban  Maharashtra     9356962   8.29 %   \n",
       "\n",
       "   Sex-Ratio  Literacy  \n",
       "0        886     84.53  \n",
       "1        955     84.06  \n",
       "2        916     87.67  \n",
       "3        915     86.15  \n",
       "4        860     89.91  "
      ]
     },
     "execution_count": 99,
     "metadata": {},
     "output_type": "execute_result"
    }
   ],
   "source": [
    "data.head(5)"
   ]
  },
  {
   "cell_type": "code",
   "execution_count": 110,
   "id": "90de4374",
   "metadata": {},
   "outputs": [
    {
     "data": {
      "text/html": [
       "<div>\n",
       "<style scoped>\n",
       "    .dataframe tbody tr th:only-of-type {\n",
       "        vertical-align: middle;\n",
       "    }\n",
       "\n",
       "    .dataframe tbody tr th {\n",
       "        vertical-align: top;\n",
       "    }\n",
       "\n",
       "    .dataframe thead th {\n",
       "        text-align: right;\n",
       "    }\n",
       "</style>\n",
       "<table border=\"1\" class=\"dataframe\">\n",
       "  <thead>\n",
       "    <tr style=\"text-align: right;\">\n",
       "      <th></th>\n",
       "      <th>0</th>\n",
       "    </tr>\n",
       "  </thead>\n",
       "  <tbody>\n",
       "    <tr>\n",
       "      <th>Ranking</th>\n",
       "      <td>1</td>\n",
       "    </tr>\n",
       "    <tr>\n",
       "      <th>District</th>\n",
       "      <td>Thane</td>\n",
       "    </tr>\n",
       "    <tr>\n",
       "      <th>State</th>\n",
       "      <td>Maharashtra</td>\n",
       "    </tr>\n",
       "    <tr>\n",
       "      <th>Population</th>\n",
       "      <td>11060148</td>\n",
       "    </tr>\n",
       "    <tr>\n",
       "      <th>Growth</th>\n",
       "      <td>36.01 %</td>\n",
       "    </tr>\n",
       "    <tr>\n",
       "      <th>Sex-Ratio</th>\n",
       "      <td>886</td>\n",
       "    </tr>\n",
       "    <tr>\n",
       "      <th>Literacy</th>\n",
       "      <td>84.53</td>\n",
       "    </tr>\n",
       "  </tbody>\n",
       "</table>\n",
       "</div>"
      ],
      "text/plain": [
       "                      0\n",
       "Ranking               1\n",
       "District          Thane\n",
       "State       Maharashtra\n",
       "Population     11060148\n",
       "Growth          36.01 %\n",
       "Sex-Ratio           886\n",
       "Literacy          84.53"
      ]
     },
     "execution_count": 110,
     "metadata": {},
     "output_type": "execute_result"
    }
   ],
   "source": [
    "pd.DataFrame(data.loc[data.Population.idxmax()])\n"
   ]
  },
  {
   "cell_type": "code",
   "execution_count": 111,
   "id": "7d15ab90",
   "metadata": {},
   "outputs": [
    {
     "data": {
      "text/html": [
       "<div>\n",
       "<style scoped>\n",
       "    .dataframe tbody tr th:only-of-type {\n",
       "        vertical-align: middle;\n",
       "    }\n",
       "\n",
       "    .dataframe tbody tr th {\n",
       "        vertical-align: top;\n",
       "    }\n",
       "\n",
       "    .dataframe thead th {\n",
       "        text-align: right;\n",
       "    }\n",
       "</style>\n",
       "<table border=\"1\" class=\"dataframe\">\n",
       "  <thead>\n",
       "    <tr style=\"text-align: right;\">\n",
       "      <th></th>\n",
       "      <th>609</th>\n",
       "    </tr>\n",
       "  </thead>\n",
       "  <tbody>\n",
       "    <tr>\n",
       "      <th>Ranking</th>\n",
       "      <td>640</td>\n",
       "    </tr>\n",
       "    <tr>\n",
       "      <th>District</th>\n",
       "      <td>Dibang Valley</td>\n",
       "    </tr>\n",
       "    <tr>\n",
       "      <th>State</th>\n",
       "      <td>Arunachal Pradesh</td>\n",
       "    </tr>\n",
       "    <tr>\n",
       "      <th>Population</th>\n",
       "      <td>8004</td>\n",
       "    </tr>\n",
       "    <tr>\n",
       "      <th>Growth</th>\n",
       "      <td>10.07 %</td>\n",
       "    </tr>\n",
       "    <tr>\n",
       "      <th>Sex-Ratio</th>\n",
       "      <td>813</td>\n",
       "    </tr>\n",
       "    <tr>\n",
       "      <th>Literacy</th>\n",
       "      <td>64.1</td>\n",
       "    </tr>\n",
       "  </tbody>\n",
       "</table>\n",
       "</div>"
      ],
      "text/plain": [
       "                          609\n",
       "Ranking                   640\n",
       "District        Dibang Valley\n",
       "State       Arunachal Pradesh\n",
       "Population               8004\n",
       "Growth                10.07 %\n",
       "Sex-Ratio                 813\n",
       "Literacy                 64.1"
      ]
     },
     "execution_count": 111,
     "metadata": {},
     "output_type": "execute_result"
    }
   ],
   "source": [
    "pd.DataFrame(data.loc[data.Population.idxmin()])"
   ]
  },
  {
   "cell_type": "code",
   "execution_count": 120,
   "id": "9583a701",
   "metadata": {},
   "outputs": [
    {
     "data": {
      "text/plain": [
       "Ranking              635\n",
       "District            Mahe\n",
       "State         Puducherry\n",
       "Population         41816\n",
       "Growth           13.54 %\n",
       "Sex-Ratio           1184\n",
       "Literacy           97.87\n",
       "Name: 604, dtype: object"
      ]
     },
     "execution_count": 120,
     "metadata": {},
     "output_type": "execute_result"
    }
   ],
   "source": [
    "data.loc[data['Sex-Ratio'].idxmax()]\n"
   ]
  },
  {
   "cell_type": "code",
   "execution_count": 121,
   "id": "6b445b3f",
   "metadata": {},
   "outputs": [
    {
     "data": {
      "text/plain": [
       "Ranking            626\n",
       "District      Serchhip\n",
       "State          Mizoram\n",
       "Population       64937\n",
       "Growth         20.56 %\n",
       "Sex-Ratio          977\n",
       "Literacy         97.91\n",
       "Name: 595, dtype: object"
      ]
     },
     "execution_count": 121,
     "metadata": {},
     "output_type": "execute_result"
    }
   ],
   "source": [
    "data.loc[data.Literacy.idxmax()]"
   ]
  },
  {
   "cell_type": "code",
   "execution_count": 133,
   "id": "871fcccb",
   "metadata": {},
   "outputs": [
    {
     "data": {
      "text/html": [
       "<div>\n",
       "<style scoped>\n",
       "    .dataframe tbody tr th:only-of-type {\n",
       "        vertical-align: middle;\n",
       "    }\n",
       "\n",
       "    .dataframe tbody tr th {\n",
       "        vertical-align: top;\n",
       "    }\n",
       "\n",
       "    .dataframe thead th {\n",
       "        text-align: right;\n",
       "    }\n",
       "</style>\n",
       "<table border=\"1\" class=\"dataframe\">\n",
       "  <thead>\n",
       "    <tr style=\"text-align: right;\">\n",
       "      <th></th>\n",
       "      <th>Ranking</th>\n",
       "      <th>District</th>\n",
       "      <th>State</th>\n",
       "      <th>Population</th>\n",
       "      <th>Sex-Ratio</th>\n",
       "      <th>Literacy</th>\n",
       "    </tr>\n",
       "    <tr>\n",
       "      <th>Growth</th>\n",
       "      <th></th>\n",
       "      <th></th>\n",
       "      <th></th>\n",
       "      <th></th>\n",
       "      <th></th>\n",
       "      <th></th>\n",
       "    </tr>\n",
       "  </thead>\n",
       "  <tbody>\n",
       "    <tr>\n",
       "      <th>98.81 %</th>\n",
       "      <td>595</td>\n",
       "      <td>Wokha</td>\n",
       "      <td>Nagaland</td>\n",
       "      <td>166343</td>\n",
       "      <td>968</td>\n",
       "      <td>87.69</td>\n",
       "    </tr>\n",
       "  </tbody>\n",
       "</table>\n",
       "</div>"
      ],
      "text/plain": [
       "         Ranking District     State  Population  Sex-Ratio  Literacy\n",
       "Growth                                                              \n",
       "98.81 %      595    Wokha  Nagaland      166343        968     87.69"
      ]
     },
     "execution_count": 133,
     "metadata": {},
     "output_type": "execute_result"
    }
   ],
   "source": [
    "data.groupby('Growth').max()[-1:]"
   ]
  },
  {
   "cell_type": "code",
   "execution_count": 144,
   "id": "eb202e4e",
   "metadata": {},
   "outputs": [
    {
     "data": {
      "image/png": "[encoded data removed]",
      "text/plain": [
       "<Figure size 1080x576 with 1 Axes>"
      ]
     },
     "metadata": {
      "needs_background": "light"
     },
     "output_type": "display_data"
    }
   ],
   "source": [
    "plt.figure(figsize = (15, 8))\n",
    "plt.bar(data.State, data.Literacy)\n",
    "plt.xticks(rotation = 90)\n",
    "plt.show()\n"
   ]
  },
  {
   "cell_type": "code",
   "execution_count": 148,
   "id": "a85abd36",
   "metadata": {},
   "outputs": [
    {
     "data": {
      "image/png": "[encoded data removed]",
      "text/plain": [
       "<Figure size 1080x576 with 1 Axes>"
      ]
     },
     "metadata": {
      "needs_background": "light"
     },
     "output_type": "display_data"
    }
   ],
   "source": [
    "plt.figure(figsize = (15, 8))\n",
    "plt.bar(data.State, data['Sex-Ratio'], color='orange')\n",
    "plt.xticks(rotation = 90)\n",
    "plt.show()\n"
   ]
  },
  {
   "cell_type": "code",
   "execution_count": 152,
   "id": "0f75c401",
   "metadata": {},
   "outputs": [
    {
     "data": {
      "image/png": "[encoded data removed]",
      "text/plain": [
       "<Figure size 720x360 with 1 Axes>"
      ]
     },
     "metadata": {
      "needs_background": "light"
     },
     "output_type": "display_data"
    }
   ],
   "source": [
    "plt.figure(figsize = (10, 5))\n",
    "plt.scatter(data.Population, data.Literacy)\n",
    "plt.show()"
   ]
  },
  {
   "cell_type": "code",
   "execution_count": null,
   "id": "914fd176",
   "metadata": {},
   "outputs": [],
   "source": []
  },
  {
   "cell_type": "code",
   "execution_count": null,
   "id": "300429a4",
   "metadata": {},
   "outputs": [],
   "source": []
  }
 ],
 "metadata": {
  "kernelspec": {
   "display_name": "Python 3 (ipykernel)",
   "language": "python",
   "name": "python3"
  },
  "language_info": {
   "codemirror_mode": {
    "name": "ipython",
    "version": 3
   },
   "file_extension": ".py",
   "mimetype": "text/x-python",
   "name": "python",
   "nbconvert_exporter": "python",
   "pygments_lexer": "ipython3",
   "version": "3.10.1"
  }
 },
 "nbformat": 4,
 "nbformat_minor": 5
}
