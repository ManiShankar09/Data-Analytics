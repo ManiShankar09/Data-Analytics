{
 "cells": [
  {
   "cell_type": "code",
   "execution_count": 1,
   "id": "38847ca1",
   "metadata": {},
   "outputs": [
    {
     "data": {
      "text/html": [
       "<div>\n",
       "<style scoped>\n",
       "    .dataframe tbody tr th:only-of-type {\n",
       "        vertical-align: middle;\n",
       "    }\n",
       "\n",
       "    .dataframe tbody tr th {\n",
       "        vertical-align: top;\n",
       "    }\n",
       "\n",
       "    .dataframe thead th {\n",
       "        text-align: right;\n",
       "    }\n",
       "</style>\n",
       "<table border=\"1\" class=\"dataframe\">\n",
       "  <thead>\n",
       "    <tr style=\"text-align: right;\">\n",
       "      <th></th>\n",
       "      <th>event_id_cnty</th>\n",
       "      <th>event_date</th>\n",
       "      <th>year</th>\n",
       "      <th>time_precision</th>\n",
       "      <th>disorder_type</th>\n",
       "      <th>event_type</th>\n",
       "      <th>sub_event_type</th>\n",
       "      <th>actor1</th>\n",
       "      <th>assoc_actor_1</th>\n",
       "      <th>inter1</th>\n",
       "      <th>...</th>\n",
       "      <th>location</th>\n",
       "      <th>latitude</th>\n",
       "      <th>longitude</th>\n",
       "      <th>geo_precision</th>\n",
       "      <th>source</th>\n",
       "      <th>source_scale</th>\n",
       "      <th>notes</th>\n",
       "      <th>fatalities</th>\n",
       "      <th>tags</th>\n",
       "      <th>timestamp</th>\n",
       "    </tr>\n",
       "  </thead>\n",
       "  <tbody>\n",
       "    <tr>\n",
       "      <th>0</th>\n",
       "      <td>ISR38822</td>\n",
       "      <td>19 January 2024</td>\n",
       "      <td>2024</td>\n",
       "      <td>1</td>\n",
       "      <td>Political violence</td>\n",
       "      <td>Explosions/Remote violence</td>\n",
       "      <td>Shelling/artillery/missile attack</td>\n",
       "      <td>Hezbollah</td>\n",
       "      <td>NaN</td>\n",
       "      <td>3</td>\n",
       "      <td>...</td>\n",
       "      <td>Elon</td>\n",
       "      <td>33.0637</td>\n",
       "      <td>35.2201</td>\n",
       "      <td>2</td>\n",
       "      <td>Ynet</td>\n",
       "      <td>National</td>\n",
       "      <td>On 19 January 2024, Hezbollah forces in Lebano...</td>\n",
       "      <td>0</td>\n",
       "      <td>NaN</td>\n",
       "      <td>1705978255</td>\n",
       "    </tr>\n",
       "    <tr>\n",
       "      <th>1</th>\n",
       "      <td>ISR38830</td>\n",
       "      <td>19 January 2024</td>\n",
       "      <td>2024</td>\n",
       "      <td>1</td>\n",
       "      <td>Demonstrations</td>\n",
       "      <td>Protests</td>\n",
       "      <td>Peaceful protest</td>\n",
       "      <td>Protesters (Israel)</td>\n",
       "      <td>Military Forces of Israel (2022-)</td>\n",
       "      <td>6</td>\n",
       "      <td>...</td>\n",
       "      <td>Amikam</td>\n",
       "      <td>32.5635</td>\n",
       "      <td>35.0208</td>\n",
       "      <td>1</td>\n",
       "      <td>Israel Hayom</td>\n",
       "      <td>National</td>\n",
       "      <td>On 19 January 2024, army reservists and relati...</td>\n",
       "      <td>0</td>\n",
       "      <td>crowd size=no report</td>\n",
       "      <td>1705978255</td>\n",
       "    </tr>\n",
       "    <tr>\n",
       "      <th>2</th>\n",
       "      <td>ISR38864</td>\n",
       "      <td>19 January 2024</td>\n",
       "      <td>2024</td>\n",
       "      <td>1</td>\n",
       "      <td>Demonstrations</td>\n",
       "      <td>Protests</td>\n",
       "      <td>Peaceful protest</td>\n",
       "      <td>Protesters (Israel)</td>\n",
       "      <td>Students (Israel)</td>\n",
       "      <td>6</td>\n",
       "      <td>...</td>\n",
       "      <td>Petah Tikva</td>\n",
       "      <td>32.0871</td>\n",
       "      <td>34.8875</td>\n",
       "      <td>1</td>\n",
       "      <td>Haaretz</td>\n",
       "      <td>National</td>\n",
       "      <td>On 19 January 2024, dozens of high school stud...</td>\n",
       "      <td>0</td>\n",
       "      <td>crowd size=dozens</td>\n",
       "      <td>1705978256</td>\n",
       "    </tr>\n",
       "    <tr>\n",
       "      <th>3</th>\n",
       "      <td>ISR38867</td>\n",
       "      <td>19 January 2024</td>\n",
       "      <td>2024</td>\n",
       "      <td>1</td>\n",
       "      <td>Demonstrations</td>\n",
       "      <td>Protests</td>\n",
       "      <td>Peaceful protest</td>\n",
       "      <td>Protesters (Israel)</td>\n",
       "      <td>Women (Israel)</td>\n",
       "      <td>6</td>\n",
       "      <td>...</td>\n",
       "      <td>Tel Aviv</td>\n",
       "      <td>32.0809</td>\n",
       "      <td>34.7806</td>\n",
       "      <td>1</td>\n",
       "      <td>Haaretz</td>\n",
       "      <td>National</td>\n",
       "      <td>On 19 January 2024, dozens of women and relati...</td>\n",
       "      <td>0</td>\n",
       "      <td>crowd size=dozens</td>\n",
       "      <td>1705978256</td>\n",
       "    </tr>\n",
       "    <tr>\n",
       "      <th>4</th>\n",
       "      <td>ISR38868</td>\n",
       "      <td>19 January 2024</td>\n",
       "      <td>2024</td>\n",
       "      <td>1</td>\n",
       "      <td>Strategic developments</td>\n",
       "      <td>Strategic developments</td>\n",
       "      <td>Disrupted weapons use</td>\n",
       "      <td>Military Forces of Israel (2022-)</td>\n",
       "      <td>NaN</td>\n",
       "      <td>1</td>\n",
       "      <td>...</td>\n",
       "      <td>Haifa</td>\n",
       "      <td>32.8184</td>\n",
       "      <td>34.9885</td>\n",
       "      <td>2</td>\n",
       "      <td>Calcalist; Colbo News; Haaretz; Jerusalem Post...</td>\n",
       "      <td>Subnational-National</td>\n",
       "      <td>Interception: On 19 January 2024, Israeli mili...</td>\n",
       "      <td>0</td>\n",
       "      <td>NaN</td>\n",
       "      <td>1705978256</td>\n",
       "    </tr>\n",
       "  </tbody>\n",
       "</table>\n",
       "<p>5 rows × 28 columns</p>\n",
       "</div>"
      ],
      "text/plain": [
       "  event_id_cnty       event_date  year  time_precision  \\\n",
       "0      ISR38822  19 January 2024  2024               1   \n",
       "1      ISR38830  19 January 2024  2024               1   \n",
       "2      ISR38864  19 January 2024  2024               1   \n",
       "3      ISR38867  19 January 2024  2024               1   \n",
       "4      ISR38868  19 January 2024  2024               1   \n",
       "\n",
       "            disorder_type                  event_type  \\\n",
       "0      Political violence  Explosions/Remote violence   \n",
       "1          Demonstrations                    Protests   \n",
       "2          Demonstrations                    Protests   \n",
       "3          Demonstrations                    Protests   \n",
       "4  Strategic developments      Strategic developments   \n",
       "\n",
       "                      sub_event_type                             actor1  \\\n",
       "0  Shelling/artillery/missile attack                          Hezbollah   \n",
       "1                   Peaceful protest                Protesters (Israel)   \n",
       "2                   Peaceful protest                Protesters (Israel)   \n",
       "3                   Peaceful protest                Protesters (Israel)   \n",
       "4              Disrupted weapons use  Military Forces of Israel (2022-)   \n",
       "\n",
       "                       assoc_actor_1  inter1  ...     location latitude  \\\n",
       "0                                NaN       3  ...         Elon  33.0637   \n",
       "1  Military Forces of Israel (2022-)       6  ...       Amikam  32.5635   \n",
       "2                  Students (Israel)       6  ...  Petah Tikva  32.0871   \n",
       "3                     Women (Israel)       6  ...     Tel Aviv  32.0809   \n",
       "4                                NaN       1  ...        Haifa  32.8184   \n",
       "\n",
       "   longitude geo_precision                                             source  \\\n",
       "0    35.2201             2                                               Ynet   \n",
       "1    35.0208             1                                       Israel Hayom   \n",
       "2    34.8875             1                                            Haaretz   \n",
       "3    34.7806             1                                            Haaretz   \n",
       "4    34.9885             2  Calcalist; Colbo News; Haaretz; Jerusalem Post...   \n",
       "\n",
       "           source_scale                                              notes  \\\n",
       "0              National  On 19 January 2024, Hezbollah forces in Lebano...   \n",
       "1              National  On 19 January 2024, army reservists and relati...   \n",
       "2              National  On 19 January 2024, dozens of high school stud...   \n",
       "3              National  On 19 January 2024, dozens of women and relati...   \n",
       "4  Subnational-National  Interception: On 19 January 2024, Israeli mili...   \n",
       "\n",
       "  fatalities                  tags   timestamp  \n",
       "0          0                   NaN  1705978255  \n",
       "1          0  crowd size=no report  1705978255  \n",
       "2          0     crowd size=dozens  1705978256  \n",
       "3          0     crowd size=dozens  1705978256  \n",
       "4          0                   NaN  1705978256  \n",
       "\n",
       "[5 rows x 28 columns]"
      ]
     },
     "execution_count": 1,
     "metadata": {},
     "output_type": "execute_result"
    }
   ],
   "source": [
    "import pandas as pd\n",
    "import matplotlib.pyplot as plt\n",
    "data = pd.read_csv('2023-10-01-2024-01-29-Middle_East-Israel-Palestine.csv')\n",
    "data.head()"
   ]
  },
  {
   "cell_type": "code",
   "execution_count": 2,
   "id": "c637851f",
   "metadata": {},
   "outputs": [
    {
     "data": {
      "text/plain": [
       "(18090, 28)"
      ]
     },
     "execution_count": 2,
     "metadata": {},
     "output_type": "execute_result"
    }
   ],
   "source": [
    "data.shape"
   ]
  },
  {
   "cell_type": "code",
   "execution_count": 3,
   "id": "122e092f",
   "metadata": {},
   "outputs": [
    {
     "data": {
      "text/plain": [
       "event_id_cnty             0\n",
       "event_date                0\n",
       "year                      0\n",
       "time_precision            0\n",
       "disorder_type             0\n",
       "event_type                0\n",
       "sub_event_type            0\n",
       "actor1                    0\n",
       "assoc_actor_1         15575\n",
       "inter1                    0\n",
       "interaction               0\n",
       "civilian_targeting    11632\n",
       "iso                       0\n",
       "region                    0\n",
       "country                   0\n",
       "admin1                    0\n",
       "admin2                   10\n",
       "admin3                15235\n",
       "location                  0\n",
       "latitude                  0\n",
       "longitude                 0\n",
       "geo_precision             0\n",
       "source                    0\n",
       "source_scale              0\n",
       "notes                     0\n",
       "fatalities                0\n",
       "tags                  13894\n",
       "timestamp                 0\n",
       "dtype: int64"
      ]
     },
     "execution_count": 3,
     "metadata": {},
     "output_type": "execute_result"
    }
   ],
   "source": [
    "data.isna().sum()"
   ]
  },
  {
   "cell_type": "code",
   "execution_count": 5,
   "id": "431b86fb",
   "metadata": {},
   "outputs": [
    {
     "name": "stdout",
     "output_type": "stream",
     "text": [
      "<class 'pandas.core.frame.DataFrame'>\n",
      "RangeIndex: 18090 entries, 0 to 18089\n",
      "Data columns (total 28 columns):\n",
      " #   Column              Non-Null Count  Dtype  \n",
      "---  ------              --------------  -----  \n",
      " 0   event_id_cnty       18090 non-null  object \n",
      " 1   event_date          18090 non-null  object \n",
      " 2   year                18090 non-null  int64  \n",
      " 3   time_precision      18090 non-null  int64  \n",
      " 4   disorder_type       18090 non-null  object \n",
      " 5   event_type          18090 non-null  object \n",
      " 6   sub_event_type      18090 non-null  object \n",
      " 7   actor1              18090 non-null  object \n",
      " 8   assoc_actor_1       2515 non-null   object \n",
      " 9   inter1              18090 non-null  int64  \n",
      " 10  interaction         18090 non-null  int64  \n",
      " 11  civilian_targeting  6458 non-null   object \n",
      " 12  iso                 18090 non-null  int64  \n",
      " 13  region              18090 non-null  object \n",
      " 14  country             18090 non-null  object \n",
      " 15  admin1              18090 non-null  object \n",
      " 16  admin2              18080 non-null  object \n",
      " 17  admin3              2855 non-null   object \n",
      " 18  location            18090 non-null  object \n",
      " 19  latitude            18090 non-null  float64\n",
      " 20  longitude           18090 non-null  float64\n",
      " 21  geo_precision       18090 non-null  int64  \n",
      " 22  source              18090 non-null  object \n",
      " 23  source_scale        18090 non-null  object \n",
      " 24  notes               18090 non-null  object \n",
      " 25  fatalities          18090 non-null  int64  \n",
      " 26  tags                4196 non-null   object \n",
      " 27  timestamp           18090 non-null  int64  \n",
      "dtypes: float64(2), int64(8), object(18)\n",
      "memory usage: 3.9+ MB\n"
     ]
    }
   ],
   "source": [
    "data.info()"
   ]
  },
  {
   "cell_type": "code",
   "execution_count": 9,
   "id": "679ef2e8",
   "metadata": {},
   "outputs": [],
   "source": [
    "data['event_date'] = pd.to_datetime(data['event_date'])"
   ]
  },
  {
   "cell_type": "code",
   "execution_count": 11,
   "id": "8b2aca08",
   "metadata": {},
   "outputs": [],
   "source": [
    "data['month'] = data['event_date'].dt.strftime('%m')"
   ]
  },
  {
   "cell_type": "markdown",
   "id": "3bd37d4f",
   "metadata": {},
   "source": [
    "### Which month has highest events?"
   ]
  },
  {
   "cell_type": "code",
   "execution_count": 13,
   "id": "11b32752",
   "metadata": {},
   "outputs": [
    {
     "data": {
      "text/plain": [
       "10    6040\n",
       "11    4874\n",
       "12    4655\n",
       "01    2521\n",
       "Name: month, dtype: int64"
      ]
     },
     "execution_count": 13,
     "metadata": {},
     "output_type": "execute_result"
    }
   ],
   "source": [
    "data.month.value_counts()"
   ]
  },
  {
   "cell_type": "code",
   "execution_count": 14,
   "id": "2f6643d0",
   "metadata": {},
   "outputs": [
    {
     "data": {
      "text/plain": [
       "<AxesSubplot:>"
      ]
     },
     "execution_count": 14,
     "metadata": {},
     "output_type": "execute_result"
    },
    {
     "data": {
      "image/png": "[encoded data removed]",
      "text/plain": [
       "<Figure size 432x288 with 1 Axes>"
      ]
     },
     "metadata": {
      "needs_background": "light"
     },
     "output_type": "display_data"
    }
   ],
   "source": [
    "data.month.value_counts().plot(kind = 'bar')"
   ]
  },
  {
   "cell_type": "code",
   "execution_count": 17,
   "id": "1a354a2d",
   "metadata": {},
   "outputs": [
    {
     "data": {
      "text/plain": [
       "Index(['event_id_cnty', 'event_date', 'year', 'time_precision',\n",
       "       'disorder_type', 'event_type', 'sub_event_type', 'actor1',\n",
       "       'assoc_actor_1', 'inter1', 'interaction', 'civilian_targeting', 'iso',\n",
       "       'region', 'country', 'admin1', 'admin2', 'admin3', 'location',\n",
       "       'latitude', 'longitude', 'geo_precision', 'source', 'source_scale',\n",
       "       'notes', 'fatalities', 'tags', 'timestamp', 'month'],\n",
       "      dtype='object')"
      ]
     },
     "execution_count": 17,
     "metadata": {},
     "output_type": "execute_result"
    }
   ],
   "source": [
    "data.columns"
   ]
  },
  {
   "cell_type": "code",
   "execution_count": 22,
   "id": "c25098c9",
   "metadata": {},
   "outputs": [
    {
     "data": {
      "text/plain": [
       "array(['National', 'Subnational-National', 'New media-National',\n",
       "       'National-International', 'International', 'Other',\n",
       "       'Other-New media', 'Regional', 'Other-National',\n",
       "       'Local partner-New media', 'National-Regional', 'Subnational',\n",
       "       'Other-Regional', 'Other-International', 'Regional-International',\n",
       "       'New media-Regional', 'New media-International', 'New media'],\n",
       "      dtype=object)"
      ]
     },
     "execution_count": 22,
     "metadata": {},
     "output_type": "execute_result"
    }
   ],
   "source": [
    "data.source_scale.unique()"
   ]
  },
  {
   "cell_type": "markdown",
   "id": "f2b864d0",
   "metadata": {},
   "source": [
    "### Which source has more number of events?"
   ]
  },
  {
   "cell_type": "code",
   "execution_count": 26,
   "id": "a3f6024a",
   "metadata": {},
   "outputs": [
    {
     "data": {
      "image/png": "[encoded data removed]",
      "text/plain": [
       "<Figure size 936x432 with 1 Axes>"
      ]
     },
     "metadata": {
      "needs_background": "light"
     },
     "output_type": "display_data"
    }
   ],
   "source": [
    "plt.figure(figsize = (13, 6))\n",
    "data.source_scale.value_counts().plot(kind = 'bar')\n",
    "plt.xlabel('Sources')\n",
    "plt.ylabel('No of events')\n",
    "plt.show()"
   ]
  },
  {
   "cell_type": "markdown",
   "id": "81dc3c93",
   "metadata": {},
   "source": [
    "### Which event has occured more? "
   ]
  },
  {
   "cell_type": "code",
   "execution_count": 28,
   "id": "72f74312",
   "metadata": {},
   "outputs": [
    {
     "data": {
      "text/plain": [
       "Explosions/Remote violence    7325\n",
       "Riots                         3672\n",
       "Battles                       2920\n",
       "Strategic developments        2501\n",
       "Violence against civilians    1150\n",
       "Protests                       522\n",
       "Name: event_type, dtype: int64"
      ]
     },
     "execution_count": 28,
     "metadata": {},
     "output_type": "execute_result"
    }
   ],
   "source": [
    "data.event_type.value_counts()"
   ]
  },
  {
   "cell_type": "code",
   "execution_count": 30,
   "id": "f9ddb6fd",
   "metadata": {},
   "outputs": [
    {
     "data": {
      "image/png": "[encoded data removed]",
      "text/plain": [
       "<Figure size 936x432 with 1 Axes>"
      ]
     },
     "metadata": {
      "needs_background": "light"
     },
     "output_type": "display_data"
    }
   ],
   "source": [
    "plt.figure(figsize = (13, 6))\n",
    "data.event_type.value_counts().plot(kind = 'bar')\n",
    "plt.xlabel('Event types')\n",
    "plt.ylabel('Times occured')\n",
    "plt.show()"
   ]
  },
  {
   "cell_type": "markdown",
   "id": "57fe5f82",
   "metadata": {},
   "source": [
    "### Which event and sub event has more occurance?"
   ]
  },
  {
   "cell_type": "code",
   "execution_count": 40,
   "id": "f3466f2f",
   "metadata": {},
   "outputs": [
    {
     "data": {
      "text/html": [
       "<div>\n",
       "<style scoped>\n",
       "    .dataframe tbody tr th:only-of-type {\n",
       "        vertical-align: middle;\n",
       "    }\n",
       "\n",
       "    .dataframe tbody tr th {\n",
       "        vertical-align: top;\n",
       "    }\n",
       "\n",
       "    .dataframe thead th {\n",
       "        text-align: right;\n",
       "    }\n",
       "</style>\n",
       "<table border=\"1\" class=\"dataframe\">\n",
       "  <thead>\n",
       "    <tr style=\"text-align: right;\">\n",
       "      <th></th>\n",
       "      <th></th>\n",
       "      <th>event_date</th>\n",
       "    </tr>\n",
       "    <tr>\n",
       "      <th>event_type</th>\n",
       "      <th>sub_event_type</th>\n",
       "      <th></th>\n",
       "    </tr>\n",
       "  </thead>\n",
       "  <tbody>\n",
       "    <tr>\n",
       "      <th rowspan=\"3\" valign=\"top\">Battles</th>\n",
       "      <th>Armed clash</th>\n",
       "      <td>2908</td>\n",
       "    </tr>\n",
       "    <tr>\n",
       "      <th>Government regains territory</th>\n",
       "      <td>6</td>\n",
       "    </tr>\n",
       "    <tr>\n",
       "      <th>Non-state actor overtakes territory</th>\n",
       "      <td>6</td>\n",
       "    </tr>\n",
       "    <tr>\n",
       "      <th rowspan=\"4\" valign=\"top\">Explosions/Remote violence</th>\n",
       "      <th>Air/drone strike</th>\n",
       "      <td>4115</td>\n",
       "    </tr>\n",
       "    <tr>\n",
       "      <th>Grenade</th>\n",
       "      <td>115</td>\n",
       "    </tr>\n",
       "    <tr>\n",
       "      <th>Remote explosive/landmine/IED</th>\n",
       "      <td>138</td>\n",
       "    </tr>\n",
       "    <tr>\n",
       "      <th>Shelling/artillery/missile attack</th>\n",
       "      <td>2957</td>\n",
       "    </tr>\n",
       "    <tr>\n",
       "      <th rowspan=\"3\" valign=\"top\">Protests</th>\n",
       "      <th>Excessive force against protesters</th>\n",
       "      <td>20</td>\n",
       "    </tr>\n",
       "    <tr>\n",
       "      <th>Peaceful protest</th>\n",
       "      <td>446</td>\n",
       "    </tr>\n",
       "    <tr>\n",
       "      <th>Protest with intervention</th>\n",
       "      <td>56</td>\n",
       "    </tr>\n",
       "    <tr>\n",
       "      <th rowspan=\"2\" valign=\"top\">Riots</th>\n",
       "      <th>Mob violence</th>\n",
       "      <td>3122</td>\n",
       "    </tr>\n",
       "    <tr>\n",
       "      <th>Violent demonstration</th>\n",
       "      <td>550</td>\n",
       "    </tr>\n",
       "    <tr>\n",
       "      <th rowspan=\"6\" valign=\"top\">Strategic developments</th>\n",
       "      <th>Agreement</th>\n",
       "      <td>2</td>\n",
       "    </tr>\n",
       "    <tr>\n",
       "      <th>Arrests</th>\n",
       "      <td>108</td>\n",
       "    </tr>\n",
       "    <tr>\n",
       "      <th>Change to group/activity</th>\n",
       "      <td>72</td>\n",
       "    </tr>\n",
       "    <tr>\n",
       "      <th>Disrupted weapons use</th>\n",
       "      <td>1365</td>\n",
       "    </tr>\n",
       "    <tr>\n",
       "      <th>Looting/property destruction</th>\n",
       "      <td>760</td>\n",
       "    </tr>\n",
       "    <tr>\n",
       "      <th>Other</th>\n",
       "      <td>194</td>\n",
       "    </tr>\n",
       "    <tr>\n",
       "      <th rowspan=\"2\" valign=\"top\">Violence against civilians</th>\n",
       "      <th>Abduction/forced disappearance</th>\n",
       "      <td>4</td>\n",
       "    </tr>\n",
       "    <tr>\n",
       "      <th>Attack</th>\n",
       "      <td>1146</td>\n",
       "    </tr>\n",
       "  </tbody>\n",
       "</table>\n",
       "</div>"
      ],
      "text/plain": [
       "                                                                event_date\n",
       "event_type                 sub_event_type                                 \n",
       "Battles                    Armed clash                                2908\n",
       "                           Government regains territory                  6\n",
       "                           Non-state actor overtakes territory           6\n",
       "Explosions/Remote violence Air/drone strike                           4115\n",
       "                           Grenade                                     115\n",
       "                           Remote explosive/landmine/IED               138\n",
       "                           Shelling/artillery/missile attack          2957\n",
       "Protests                   Excessive force against protesters           20\n",
       "                           Peaceful protest                            446\n",
       "                           Protest with intervention                    56\n",
       "Riots                      Mob violence                               3122\n",
       "                           Violent demonstration                       550\n",
       "Strategic developments     Agreement                                     2\n",
       "                           Arrests                                     108\n",
       "                           Change to group/activity                     72\n",
       "                           Disrupted weapons use                      1365\n",
       "                           Looting/property destruction                760\n",
       "                           Other                                       194\n",
       "Violence against civilians Abduction/forced disappearance                4\n",
       "                           Attack                                     1146"
      ]
     },
     "execution_count": 40,
     "metadata": {},
     "output_type": "execute_result"
    }
   ],
   "source": [
    "pd.DataFrame(data.groupby(['event_type', 'sub_event_type'])['event_date'].count())"
   ]
  },
  {
   "cell_type": "markdown",
   "id": "bb29e5ce",
   "metadata": {},
   "source": [
    "### Types of Disorders"
   ]
  },
  {
   "cell_type": "code",
   "execution_count": 42,
   "id": "446038a5",
   "metadata": {},
   "outputs": [
    {
     "data": {
      "text/plain": [
       "array(['Political violence', 'Demonstrations', 'Strategic developments',\n",
       "       'Political violence; Demonstrations'], dtype=object)"
      ]
     },
     "execution_count": 42,
     "metadata": {},
     "output_type": "execute_result"
    }
   ],
   "source": [
    "data.disorder_type.unique()"
   ]
  },
  {
   "cell_type": "markdown",
   "id": "5894322e",
   "metadata": {},
   "source": [
    "### Which disorder occured more?"
   ]
  },
  {
   "cell_type": "code",
   "execution_count": 43,
   "id": "046757f3",
   "metadata": {},
   "outputs": [
    {
     "data": {
      "text/plain": [
       "Political violence                    14517\n",
       "Strategic developments                 2501\n",
       "Demonstrations                         1052\n",
       "Political violence; Demonstrations       20\n",
       "Name: disorder_type, dtype: int64"
      ]
     },
     "execution_count": 43,
     "metadata": {},
     "output_type": "execute_result"
    }
   ],
   "source": [
    "data.disorder_type.value_counts()"
   ]
  },
  {
   "cell_type": "code",
   "execution_count": 45,
   "id": "c0746dc6",
   "metadata": {},
   "outputs": [
    {
     "data": {
      "text/plain": [
       "Text(0, 0.5, 'Occurances')"
      ]
     },
     "execution_count": 45,
     "metadata": {},
     "output_type": "execute_result"
    },
    {
     "data": {
      "image/png": "[encoded data removed]",
      "text/plain": [
       "<Figure size 432x288 with 1 Axes>"
      ]
     },
     "metadata": {
      "needs_background": "light"
     },
     "output_type": "display_data"
    }
   ],
   "source": [
    "data.disorder_type.value_counts().plot(kind = 'bar', color = 'orange')\n",
    "plt.xlabel('Disorder type')\n",
    "plt.ylabel('Occurances')"
   ]
  },
  {
   "cell_type": "markdown",
   "id": "a06ca8d2",
   "metadata": {},
   "source": [
    "### Which year has more events?"
   ]
  },
  {
   "cell_type": "code",
   "execution_count": 48,
   "id": "b77313b6",
   "metadata": {},
   "outputs": [
    {
     "data": {
      "text/plain": [
       "<AxesSubplot:>"
      ]
     },
     "execution_count": 48,
     "metadata": {},
     "output_type": "execute_result"
    },
    {
     "data": {
      "image/png": "[encoded data removed]",
      "text/plain": [
       "<Figure size 432x288 with 1 Axes>"
      ]
     },
     "metadata": {
      "needs_background": "light"
     },
     "output_type": "display_data"
    }
   ],
   "source": [
    "data.year.value_counts().plot(kind = 'bar')"
   ]
  },
  {
   "cell_type": "markdown",
   "id": "5ac8150d",
   "metadata": {},
   "source": [
    "### Which geomark effected by more number of events?"
   ]
  },
  {
   "cell_type": "code",
   "execution_count": 52,
   "id": "a214e540",
   "metadata": {},
   "outputs": [
    {
     "data": {
      "text/html": [
       "<div>\n",
       "<style scoped>\n",
       "    .dataframe tbody tr th:only-of-type {\n",
       "        vertical-align: middle;\n",
       "    }\n",
       "\n",
       "    .dataframe tbody tr th {\n",
       "        vertical-align: top;\n",
       "    }\n",
       "\n",
       "    .dataframe thead th {\n",
       "        text-align: right;\n",
       "    }\n",
       "</style>\n",
       "<table border=\"1\" class=\"dataframe\">\n",
       "  <thead>\n",
       "    <tr style=\"text-align: right;\">\n",
       "      <th></th>\n",
       "      <th></th>\n",
       "      <th>event_id_cnty</th>\n",
       "    </tr>\n",
       "    <tr>\n",
       "      <th>latitude</th>\n",
       "      <th>longitude</th>\n",
       "      <th></th>\n",
       "    </tr>\n",
       "  </thead>\n",
       "  <tbody>\n",
       "    <tr>\n",
       "      <th>31.287</th>\n",
       "      <th>34.2595</th>\n",
       "      <td>450</td>\n",
       "    </tr>\n",
       "  </tbody>\n",
       "</table>\n",
       "</div>"
      ],
      "text/plain": [
       "                    event_id_cnty\n",
       "latitude longitude               \n",
       "31.287   34.2595              450"
      ]
     },
     "execution_count": 52,
     "metadata": {},
     "output_type": "execute_result"
    }
   ],
   "source": [
    "pd.DataFrame(data.groupby(['latitude','longitude'])['event_id_cnty'].count().sort_values(ascending = False)[:1])"
   ]
  },
  {
   "cell_type": "markdown",
   "id": "b31e34ee",
   "metadata": {},
   "source": [
    "### Which event results more deaths?"
   ]
  },
  {
   "cell_type": "code",
   "execution_count": 56,
   "id": "4f211a0a",
   "metadata": {},
   "outputs": [
    {
     "data": {
      "image/png": "[encoded data removed]",
      "text/plain": [
       "<Figure size 936x432 with 1 Axes>"
      ]
     },
     "metadata": {
      "needs_background": "light"
     },
     "output_type": "display_data"
    }
   ],
   "source": [
    "plt.figure(figsize = (13, 6))\n",
    "plt.bar(data.event_type, data.fatalities)\n",
    "plt.xticks(rotation = 90)\n",
    "plt.xlabel('Event Type')\n",
    "plt.ylabel('Deaths')\n",
    "plt.show()"
   ]
  },
  {
   "cell_type": "markdown",
   "id": "b17d1c26",
   "metadata": {},
   "source": [
    "### Which month has more deaths?"
   ]
  },
  {
   "cell_type": "code",
   "execution_count": 69,
   "id": "acb3a748",
   "metadata": {},
   "outputs": [
    {
     "data": {
      "image/png": "[encoded data removed]",
      "text/plain": [
       "<Figure size 936x504 with 1 Axes>"
      ]
     },
     "metadata": {
      "needs_background": "light"
     },
     "output_type": "display_data"
    }
   ],
   "source": [
    "plt.figure(figsize = (13,7))\n",
    "data.groupby('month')['fatalities'].sum().plot(kind = 'bar', color = 'red')\n",
    "plt.ylabel('Deaths')\n",
    "plt.show()"
   ]
  },
  {
   "cell_type": "markdown",
   "id": "8f13e2bb",
   "metadata": {},
   "source": [
    "### Which locations has more death?"
   ]
  },
  {
   "cell_type": "code",
   "execution_count": 76,
   "id": "14639c9a",
   "metadata": {},
   "outputs": [
    {
     "data": {
      "text/plain": [
       "location\n",
       "Mukhayyam Jabalya    3716\n",
       "Gaza - Az Zaytun     3688\n",
       "Rafah                3088\n",
       "Jabalya              3088\n",
       "An Nusayrat          2960\n",
       "                     ... \n",
       "Hinnanit                0\n",
       "Herzliya                0\n",
       "Hemed                   0\n",
       "Hatzerim                0\n",
       "Zububah                 0\n",
       "Name: fatalities, Length: 732, dtype: int64"
      ]
     },
     "execution_count": 76,
     "metadata": {},
     "output_type": "execute_result"
    }
   ],
   "source": [
    "data.groupby('location')['fatalities'].sum().sort_values(ascending = False)"
   ]
  },
  {
   "cell_type": "markdown",
   "id": "be8ea0da",
   "metadata": {},
   "source": [
    "### Top 5 locations which are effected with more number of deaths?"
   ]
  },
  {
   "cell_type": "code",
   "execution_count": 78,
   "id": "17bc522b",
   "metadata": {},
   "outputs": [
    {
     "data": {
      "text/html": [
       "<div>\n",
       "<style scoped>\n",
       "    .dataframe tbody tr th:only-of-type {\n",
       "        vertical-align: middle;\n",
       "    }\n",
       "\n",
       "    .dataframe tbody tr th {\n",
       "        vertical-align: top;\n",
       "    }\n",
       "\n",
       "    .dataframe thead th {\n",
       "        text-align: right;\n",
       "    }\n",
       "</style>\n",
       "<table border=\"1\" class=\"dataframe\">\n",
       "  <thead>\n",
       "    <tr style=\"text-align: right;\">\n",
       "      <th></th>\n",
       "      <th>fatalities</th>\n",
       "    </tr>\n",
       "    <tr>\n",
       "      <th>location</th>\n",
       "      <th></th>\n",
       "    </tr>\n",
       "  </thead>\n",
       "  <tbody>\n",
       "    <tr>\n",
       "      <th>Mukhayyam Jabalya</th>\n",
       "      <td>3716</td>\n",
       "    </tr>\n",
       "    <tr>\n",
       "      <th>Gaza - Az Zaytun</th>\n",
       "      <td>3688</td>\n",
       "    </tr>\n",
       "    <tr>\n",
       "      <th>Rafah</th>\n",
       "      <td>3088</td>\n",
       "    </tr>\n",
       "    <tr>\n",
       "      <th>Jabalya</th>\n",
       "      <td>3088</td>\n",
       "    </tr>\n",
       "    <tr>\n",
       "      <th>An Nusayrat</th>\n",
       "      <td>2960</td>\n",
       "    </tr>\n",
       "  </tbody>\n",
       "</table>\n",
       "</div>"
      ],
      "text/plain": [
       "                   fatalities\n",
       "location                     \n",
       "Mukhayyam Jabalya        3716\n",
       "Gaza - Az Zaytun         3688\n",
       "Rafah                    3088\n",
       "Jabalya                  3088\n",
       "An Nusayrat              2960"
      ]
     },
     "execution_count": 78,
     "metadata": {},
     "output_type": "execute_result"
    }
   ],
   "source": [
    "pd.DataFrame(data.groupby('location')['fatalities'].sum().sort_values(ascending = False)[:5])"
   ]
  },
  {
   "cell_type": "code",
   "execution_count": 98,
   "id": "fd7facd9",
   "metadata": {},
   "outputs": [
    {
     "data": {
      "image/png": "[encoded data removed]",
      "text/plain": [
       "<Figure size 720x432 with 1 Axes>"
      ]
     },
     "metadata": {},
     "output_type": "display_data"
    }
   ],
   "source": [
    "plt.figure(figsize = (10,6))\n",
    "data.groupby('location')['fatalities'].sum().sort_values(ascending = False)[:5].plot(kind = 'pie')\n",
    "plt.show()"
   ]
  },
  {
   "cell_type": "markdown",
   "id": "d3068ebd",
   "metadata": {},
   "source": [
    "### Which country is effected by more no of events?"
   ]
  },
  {
   "cell_type": "code",
   "execution_count": 89,
   "id": "c2373f9a",
   "metadata": {},
   "outputs": [
    {
     "data": {
      "text/plain": [
       "Palestine    15227\n",
       "Israel        2863\n",
       "Name: country, dtype: int64"
      ]
     },
     "execution_count": 89,
     "metadata": {},
     "output_type": "execute_result"
    }
   ],
   "source": [
    "data.country.value_counts()"
   ]
  },
  {
   "cell_type": "markdown",
   "id": "09d854af",
   "metadata": {},
   "source": [
    "### Which Country has more deaths?"
   ]
  },
  {
   "cell_type": "code",
   "execution_count": 91,
   "id": "7095a20c",
   "metadata": {},
   "outputs": [
    {
     "data": {
      "text/plain": [
       "country\n",
       "Israel        2824\n",
       "Palestine    49587\n",
       "Name: fatalities, dtype: int64"
      ]
     },
     "execution_count": 91,
     "metadata": {},
     "output_type": "execute_result"
    }
   ],
   "source": [
    "data.groupby('country')['fatalities'].sum()"
   ]
  },
  {
   "cell_type": "code",
   "execution_count": 92,
   "id": "6f6b3b8a",
   "metadata": {},
   "outputs": [
    {
     "data": {
      "text/plain": [
       "<AxesSubplot:xlabel='country'>"
      ]
     },
     "execution_count": 92,
     "metadata": {},
     "output_type": "execute_result"
    },
    {
     "data": {
      "image/png": "[encoded data removed]",
      "text/plain": [
       "<Figure size 432x288 with 1 Axes>"
      ]
     },
     "metadata": {
      "needs_background": "light"
     },
     "output_type": "display_data"
    }
   ],
   "source": [
    "data.groupby('country')['fatalities'].sum().plot(kind = 'bar')"
   ]
  },
  {
   "cell_type": "code",
   "execution_count": 94,
   "id": "58cb7fa3",
   "metadata": {},
   "outputs": [
    {
     "data": {
      "text/plain": [
       "array(['HaZafon', 'Haifa', 'HaMerkaz', 'Tel Aviv', 'HaDarom', 'Jerusalem',\n",
       "       'Gaza Strip', 'West Bank'], dtype=object)"
      ]
     },
     "execution_count": 94,
     "metadata": {},
     "output_type": "execute_result"
    }
   ],
   "source": [
    "data.admin1.unique()"
   ]
  },
  {
   "cell_type": "markdown",
   "id": "d1a9b687",
   "metadata": {},
   "source": [
    "### Country wise deaths per month"
   ]
  },
  {
   "cell_type": "code",
   "execution_count": 105,
   "id": "31ed8902",
   "metadata": {},
   "outputs": [
    {
     "data": {
      "text/html": [
       "<div>\n",
       "<style scoped>\n",
       "    .dataframe tbody tr th:only-of-type {\n",
       "        vertical-align: middle;\n",
       "    }\n",
       "\n",
       "    .dataframe tbody tr th {\n",
       "        vertical-align: top;\n",
       "    }\n",
       "\n",
       "    .dataframe thead th {\n",
       "        text-align: right;\n",
       "    }\n",
       "</style>\n",
       "<table border=\"1\" class=\"dataframe\">\n",
       "  <thead>\n",
       "    <tr style=\"text-align: right;\">\n",
       "      <th></th>\n",
       "      <th></th>\n",
       "      <th>fatalities</th>\n",
       "    </tr>\n",
       "    <tr>\n",
       "      <th>country</th>\n",
       "      <th>month</th>\n",
       "      <th></th>\n",
       "    </tr>\n",
       "  </thead>\n",
       "  <tbody>\n",
       "    <tr>\n",
       "      <th rowspan=\"4\" valign=\"top\">Israel</th>\n",
       "      <th>01</th>\n",
       "      <td>6</td>\n",
       "    </tr>\n",
       "    <tr>\n",
       "      <th>10</th>\n",
       "      <td>2786</td>\n",
       "    </tr>\n",
       "    <tr>\n",
       "      <th>11</th>\n",
       "      <td>24</td>\n",
       "    </tr>\n",
       "    <tr>\n",
       "      <th>12</th>\n",
       "      <td>8</td>\n",
       "    </tr>\n",
       "    <tr>\n",
       "      <th rowspan=\"4\" valign=\"top\">Palestine</th>\n",
       "      <th>01</th>\n",
       "      <td>5070</td>\n",
       "    </tr>\n",
       "    <tr>\n",
       "      <th>10</th>\n",
       "      <td>18002</td>\n",
       "    </tr>\n",
       "    <tr>\n",
       "      <th>11</th>\n",
       "      <td>12539</td>\n",
       "    </tr>\n",
       "    <tr>\n",
       "      <th>12</th>\n",
       "      <td>13976</td>\n",
       "    </tr>\n",
       "  </tbody>\n",
       "</table>\n",
       "</div>"
      ],
      "text/plain": [
       "                 fatalities\n",
       "country   month            \n",
       "Israel    01              6\n",
       "          10           2786\n",
       "          11             24\n",
       "          12              8\n",
       "Palestine 01           5070\n",
       "          10          18002\n",
       "          11          12539\n",
       "          12          13976"
      ]
     },
     "execution_count": 105,
     "metadata": {},
     "output_type": "execute_result"
    }
   ],
   "source": [
    " pd.DataFrame(data.groupby(['country', 'month'])['fatalities'].sum())"
   ]
  },
  {
   "cell_type": "code",
   "execution_count": null,
   "id": "b40fc5a2",
   "metadata": {},
   "outputs": [],
   "source": []
  },
  {
   "cell_type": "code",
   "execution_count": null,
   "id": "3772a1df",
   "metadata": {},
   "outputs": [],
   "source": []
  }
 ],
 "metadata": {
  "kernelspec": {
   "display_name": "Python 3 (ipykernel)",
   "language": "python",
   "name": "python3"
  },
  "language_info": {
   "codemirror_mode": {
    "name": "ipython",
    "version": 3
   },
   "file_extension": ".py",
   "mimetype": "text/x-python",
   "name": "python",
   "nbconvert_exporter": "python",
   "pygments_lexer": "ipython3",
   "version": "3.10.1"
  }
 },
 "nbformat": 4,
 "nbformat_minor": 5
}
